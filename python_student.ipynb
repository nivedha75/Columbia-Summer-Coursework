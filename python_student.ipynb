{
  "nbformat": 4,
  "nbformat_minor": 0,
  "metadata": {
    "colab": {
      "name": "python_student.ipynb",
      "provenance": [],
      "toc_visible": true,
      "include_colab_link": true
    },
    "kernelspec": {
      "name": "python3",
      "display_name": "Python 3"
    }
  },
  "cells": [
    {
      "cell_type": "markdown",
      "metadata": {
        "id": "view-in-github",
        "colab_type": "text"
      },
      "source": [
        "<a href=\"https://colab.research.google.com/github/nivedha75/Columbia-Summer-Coursework/blob/master/python_student.ipynb\" target=\"_parent\"><img src=\"https://colab.research.google.com/assets/colab-badge.svg\" alt=\"Open In Colab\"/></a>"
      ]
    },
    {
      "cell_type": "markdown",
      "metadata": {
        "id": "IngLDdvi4ssM",
        "colab_type": "text"
      },
      "source": [
        "# 1. Print"
      ]
    },
    {
      "cell_type": "markdown",
      "metadata": {
        "id": "kPWJm23MSaQQ",
        "colab_type": "text"
      },
      "source": [
        "```\n",
        "print('Hello')\n",
        "print(\"Hello\")\n",
        "```"
      ]
    },
    {
      "cell_type": "code",
      "metadata": {
        "id": "0kh4w72M43oG",
        "colab_type": "code",
        "colab": {}
      },
      "source": [
        ""
      ],
      "execution_count": null,
      "outputs": []
    },
    {
      "cell_type": "markdown",
      "metadata": {
        "id": "lMEZE2vo5CEb",
        "colab_type": "text"
      },
      "source": [
        "**Exercise 1**\n",
        "\n",
        "Print the words 'Hello, World', without quotes, by entering a command in the Console.\n"
      ]
    },
    {
      "cell_type": "code",
      "metadata": {
        "id": "Y1NOtAh25y3L",
        "colab_type": "code",
        "colab": {}
      },
      "source": [
        ""
      ],
      "execution_count": null,
      "outputs": []
    },
    {
      "cell_type": "markdown",
      "metadata": {
        "id": "NHvfOvGv56Gz",
        "colab_type": "text"
      },
      "source": [
        "**Exercise 2**\n",
        "\n",
        "Write a print command that has the following output:\n",
        "\n",
        "She says “Hello, World.”\n"
      ]
    },
    {
      "cell_type": "markdown",
      "metadata": {
        "id": "mW_Y-Q5D6DHJ",
        "colab_type": "text"
      },
      "source": [
        "# 2. Data Types, Variables, and Operators"
      ]
    },
    {
      "cell_type": "markdown",
      "metadata": {
        "id": "i3U_02K76rbP",
        "colab_type": "text"
      },
      "source": [
        "## Object Types"
      ]
    },
    {
      "cell_type": "markdown",
      "metadata": {
        "id": "bcumqKH9-t38",
        "colab_type": "text"
      },
      "source": [
        "A Python object is an instance of information that the computer will use in a command or program. A function performs a single action using objects. \n",
        "```\n",
        "type('Hello, world')\n",
        "type(1)\n",
        "type(1.1)\n",
        "```"
      ]
    },
    {
      "cell_type": "code",
      "metadata": {
        "id": "AKb4-kAu61ry",
        "colab_type": "code",
        "colab": {}
      },
      "source": [
        ""
      ],
      "execution_count": null,
      "outputs": []
    },
    {
      "cell_type": "markdown",
      "metadata": {
        "id": "izAENCQ37EHj",
        "colab_type": "text"
      },
      "source": [
        "Test out what happens when you run all 3 lines of code above together.\n",
        "\n"
      ]
    },
    {
      "cell_type": "code",
      "metadata": {
        "id": "EYnKMWRAS5tI",
        "colab_type": "code",
        "colab": {}
      },
      "source": [
        ""
      ],
      "execution_count": null,
      "outputs": []
    },
    {
      "cell_type": "markdown",
      "metadata": {
        "id": "BqOmSsYQ7fAv",
        "colab_type": "text"
      },
      "source": [
        "## Variables\n",
        "\n"
      ]
    },
    {
      "cell_type": "markdown",
      "metadata": {
        "id": "sOnO01Mb-iMh",
        "colab_type": "text"
      },
      "source": [
        "You can define variables to serve as placeholders. \n",
        "\n",
        "```\n",
        "a = \"Hello World\"\n",
        "a\n",
        "```"
      ]
    },
    {
      "cell_type": "code",
      "metadata": {
        "id": "-7WIROnz7hBY",
        "colab_type": "code",
        "colab": {}
      },
      "source": [
        ""
      ],
      "execution_count": null,
      "outputs": []
    },
    {
      "cell_type": "markdown",
      "metadata": {
        "id": "zTtw3Lrw78Bj",
        "colab_type": "text"
      },
      "source": [
        "**Exercise 3**\n",
        "\n",
        "What is the output of print(a)? Check by running the command."
      ]
    },
    {
      "cell_type": "code",
      "metadata": {
        "id": "a9ps_kVS8eSZ",
        "colab_type": "code",
        "colab": {}
      },
      "source": [
        ""
      ],
      "execution_count": null,
      "outputs": []
    },
    {
      "cell_type": "markdown",
      "metadata": {
        "id": "Qna8hX138F49",
        "colab_type": "text"
      },
      "source": [
        "**Exercise 4**\n",
        "\n",
        "Run the outputs for print(type(a)) and type(print(a)). What is the difference between them?\n"
      ]
    },
    {
      "cell_type": "code",
      "metadata": {
        "id": "OOHkkKJL8e9_",
        "colab_type": "code",
        "colab": {}
      },
      "source": [
        ""
      ],
      "execution_count": null,
      "outputs": []
    },
    {
      "cell_type": "markdown",
      "metadata": {
        "id": "b4Y3zf9x8XHx",
        "colab_type": "text"
      },
      "source": [
        "**Exercise 5**\n",
        "\n",
        "```\n",
        "a = \"Hello, World\"\n",
        "a = 3\n",
        "```\n",
        " \n",
        "What do you think is the output of type(a)? Run and check."
      ]
    },
    {
      "cell_type": "code",
      "metadata": {
        "id": "6zMovS038gG9",
        "colab_type": "code",
        "colab": {}
      },
      "source": [
        ""
      ],
      "execution_count": null,
      "outputs": []
    },
    {
      "cell_type": "markdown",
      "metadata": {
        "id": "FiPZSMgb8icC",
        "colab_type": "text"
      },
      "source": [
        "## Boolean Operators\n",
        "\n",
        "```\n",
        "a = 2\n",
        "b = 5\n",
        "```"
      ]
    },
    {
      "cell_type": "code",
      "metadata": {
        "id": "b1JF7sHl8nlK",
        "colab_type": "code",
        "colab": {}
      },
      "source": [
        ""
      ],
      "execution_count": null,
      "outputs": []
    },
    {
      "cell_type": "markdown",
      "metadata": {
        "id": "3jscs87-8zqi",
        "colab_type": "text"
      },
      "source": [
        "Test out these Boolean Operators. What do they do?\n",
        "\n",
        "```\n",
        "a == b\n",
        "a != b\n",
        "a < b\n",
        "a <= b\n",
        "a >= b \n",
        "a > b\n",
        "```"
      ]
    },
    {
      "cell_type": "code",
      "metadata": {
        "id": "fPQJAGT484aa",
        "colab_type": "code",
        "colab": {}
      },
      "source": [
        ""
      ],
      "execution_count": null,
      "outputs": []
    },
    {
      "cell_type": "markdown",
      "metadata": {
        "id": "U_MpN-MN9CGQ",
        "colab_type": "text"
      },
      "source": [
        "**Exercise 6**\n",
        "\n",
        "What do you think is the output for the following? Run it and check.\n",
        "```\n",
        "type(3.2) == float\n",
        "```\n"
      ]
    },
    {
      "cell_type": "code",
      "metadata": {
        "id": "nxpNOj-B9G7J",
        "colab_type": "code",
        "colab": {}
      },
      "source": [
        ""
      ],
      "execution_count": null,
      "outputs": []
    },
    {
      "cell_type": "markdown",
      "metadata": {
        "id": "NgHkSAtE9WSf",
        "colab_type": "text"
      },
      "source": [
        "### Non-Boolean Operators\n"
      ]
    },
    {
      "cell_type": "markdown",
      "metadata": {
        "id": "Sr_eAACf-ZiF",
        "colab_type": "text"
      },
      "source": [
        "Test out the following Operators:\n",
        "```\n",
        "2 + 3\n",
        "2 – 3\n",
        "2 * 3\n",
        "10 / 3\n",
        "```"
      ]
    },
    {
      "cell_type": "code",
      "metadata": {
        "id": "Ek-JzuO6-bB6",
        "colab_type": "code",
        "colab": {}
      },
      "source": [
        ""
      ],
      "execution_count": null,
      "outputs": []
    },
    {
      "cell_type": "markdown",
      "metadata": {
        "id": "PABm80qR9SHw",
        "colab_type": "text"
      },
      "source": [
        "**Exercise 7**\n",
        "```\n",
        "a = 2\n",
        "b = 5\n",
        "c = 'Hello'\n",
        "d = 'World'\n",
        "\n",
        "a+b\n",
        "c+d\n",
        "a+c\n",
        "```\n",
        "\n",
        "What is the output for each of the last three commands? Run and check.\n",
        "\n"
      ]
    },
    {
      "cell_type": "code",
      "metadata": {
        "id": "M98_l1zk9lvg",
        "colab_type": "code",
        "colab": {}
      },
      "source": [
        ""
      ],
      "execution_count": null,
      "outputs": []
    },
    {
      "cell_type": "markdown",
      "metadata": {
        "id": "iXXwviSz9zAS",
        "colab_type": "text"
      },
      "source": [
        "**Exercise 8**\n",
        "\n",
        "How would you get the output 'Hello World' from the variables in Exercise 7? "
      ]
    },
    {
      "cell_type": "code",
      "metadata": {
        "id": "9cCN0qlm9_p5",
        "colab_type": "code",
        "colab": {}
      },
      "source": [
        ""
      ],
      "execution_count": null,
      "outputs": []
    },
    {
      "cell_type": "markdown",
      "metadata": {
        "id": "Tvbe94ns-AKA",
        "colab_type": "text"
      },
      "source": [
        "**Exercise 9**\n",
        "\n",
        "Use variable a, variable b, a boolean operator, and a non-boolean operator\n",
        "to create a command with a True output."
      ]
    },
    {
      "cell_type": "markdown",
      "metadata": {
        "id": "-lsmOBsH-NuH",
        "colab_type": "text"
      },
      "source": [
        "# 3. Lists and Strings"
      ]
    },
    {
      "cell_type": "markdown",
      "metadata": {
        "id": "-We_JOVb-3wN",
        "colab_type": "text"
      },
      "source": [
        "## Lists\n",
        "```\n",
        "[1,5,6,4,8]\n",
        "[\"hi\", \"hello\",\"hey\"]\n",
        "[\"hi\", 5, \"hello\", 8,\"hey\"]\n",
        "```"
      ]
    },
    {
      "cell_type": "markdown",
      "metadata": {
        "id": "FDfm41qK_JbM",
        "colab_type": "text"
      },
      "source": [
        "**Exercise 10**\n",
        "\n",
        "```\n",
        "[1,5,6,4,8]\n",
        "[\"hi\", \"hello\",\"hey\"]\n",
        "[\"hi\", 5, \"hello\", 8,\"hey\"]\n",
        "```\n",
        "Set the first list above to a variable.\n"
      ]
    },
    {
      "cell_type": "markdown",
      "metadata": {
        "id": "MFRPo_aK_hRX",
        "colab_type": "text"
      },
      "source": [
        "## List Operations"
      ]
    },
    {
      "cell_type": "markdown",
      "metadata": {
        "id": "GHvAIw6d_l9v",
        "colab_type": "text"
      },
      "source": [
        "\n",
        "\n",
        "```\n",
        "[1,2,3] + [4,5,6]\n",
        "a = [1,2,3]\n",
        "b = [4,5,6]\n",
        "c = a+b\n",
        "c\n",
        "a+[4,5,6]\n",
        "```\n",
        "\n"
      ]
    },
    {
      "cell_type": "code",
      "metadata": {
        "id": "Tt4nD4gx_a9D",
        "colab_type": "code",
        "colab": {}
      },
      "source": [
        ""
      ],
      "execution_count": null,
      "outputs": []
    },
    {
      "cell_type": "markdown",
      "metadata": {
        "id": "Cv4U7Hq9_zOa",
        "colab_type": "text"
      },
      "source": [
        "## List Methods"
      ]
    },
    {
      "cell_type": "markdown",
      "metadata": {
        "id": "rvbFva-f_4K0",
        "colab_type": "text"
      },
      "source": [
        "A method is a function that belongs to an indicated object. In this case, the append and remove methods belong to list a and can generally be applied to list objects.\n",
        "\n",
        "\n",
        "\n",
        "```\n",
        "a = [ ]\n",
        "a.append(\"Hey\")\n",
        "a.append(\"Hi\")\n",
        "a\n",
        "a.remove(\"Hey\")\n",
        "a\n",
        "```\n",
        "\n"
      ]
    },
    {
      "cell_type": "code",
      "metadata": {
        "id": "W5ebnvxi_0-T",
        "colab_type": "code",
        "colab": {}
      },
      "source": [
        ""
      ],
      "execution_count": null,
      "outputs": []
    },
    {
      "cell_type": "markdown",
      "metadata": {
        "id": "4PzTFsYxAGQ6",
        "colab_type": "text"
      },
      "source": [
        "## Indexing\n",
        "\n",
        "```\n",
        "a = [\"Hi\",\"Hello\",\"Hey\",\"Howdy\"]\n",
        "\n",
        "\"Hi\" is in index 0.\n",
        "\"Hello\" is in index 1.\n",
        "\"Hey\" is in index 2.\n",
        "\"Howdy\" is in index 3, and so on.\n",
        "```\n",
        "\n"
      ]
    },
    {
      "cell_type": "code",
      "metadata": {
        "id": "BKy-ycmUAXRC",
        "colab_type": "code",
        "colab": {}
      },
      "source": [
        ""
      ],
      "execution_count": null,
      "outputs": []
    },
    {
      "cell_type": "markdown",
      "metadata": {
        "id": "6qbPmoajAXwc",
        "colab_type": "text"
      },
      "source": [
        "\n",
        "```\n",
        "a = [\"Hi\",\"Hello\",\"Hey\",\"Howdy\"]\n",
        "a[0]\n",
        "a[0:1]\n",
        "a[0:2]\n",
        "a[:2]\n",
        "a[1:3]\n",
        "a[-1]\n",
        "a[-3:-1]\n",
        "a[-3:]\n",
        "```\n"
      ]
    },
    {
      "cell_type": "code",
      "metadata": {
        "id": "jXzdC2VXAgrx",
        "colab_type": "code",
        "colab": {}
      },
      "source": [
        ""
      ],
      "execution_count": null,
      "outputs": []
    },
    {
      "cell_type": "markdown",
      "metadata": {
        "id": "HMM9dYpQAhBB",
        "colab_type": "text"
      },
      "source": [
        "\n",
        "\n",
        "```\n",
        "a = [1,2,3,8,8]\n",
        "a.index(8)\n",
        "```\n",
        "\n"
      ]
    },
    {
      "cell_type": "code",
      "metadata": {
        "id": "JDY8kfb1AmH1",
        "colab_type": "code",
        "colab": {}
      },
      "source": [
        ""
      ],
      "execution_count": null,
      "outputs": []
    },
    {
      "cell_type": "markdown",
      "metadata": {
        "id": "OHMX_gC5AnLL",
        "colab_type": "text"
      },
      "source": [
        "**Exercise 11**\n",
        "\n",
        "Create any list b. Use indexing to define a list c that contains only the last two elements of list b.\n"
      ]
    },
    {
      "cell_type": "code",
      "metadata": {
        "id": "ApjhvmcmA1gV",
        "colab_type": "code",
        "colab": {}
      },
      "source": [
        ""
      ],
      "execution_count": null,
      "outputs": []
    },
    {
      "cell_type": "markdown",
      "metadata": {
        "id": "4FwPCjnYA5bb",
        "colab_type": "text"
      },
      "source": [
        "## Nested Lists\n",
        "\n",
        "```\n",
        "[ [1,2,3], [4,5,6], [7,8,9] ]\n",
        "a = [1,2,3]\n",
        "b = [4,5,6]\n",
        "c = [7,8,9]\n",
        "d = [a,b,c]\n",
        "d\n",
        "d[1][0]\n",
        "\n",
        "```"
      ]
    },
    {
      "cell_type": "code",
      "metadata": {
        "id": "gBYjNgEXBGkS",
        "colab_type": "code",
        "colab": {}
      },
      "source": [
        ""
      ],
      "execution_count": null,
      "outputs": []
    },
    {
      "cell_type": "markdown",
      "metadata": {
        "id": "DMyVDEvsBG6J",
        "colab_type": "text"
      },
      "source": [
        "**Exercise 12**\n",
        "\n",
        "```\n",
        "a = [1,2,3]\n",
        "b = [4,5,6]\n",
        "c = [7,8,9]\n",
        "d = [a,b,c]\n",
        "```\n",
        "\n",
        "Access the second element in list a from list d."
      ]
    },
    {
      "cell_type": "code",
      "metadata": {
        "id": "hISisr3iBT0X",
        "colab_type": "code",
        "colab": {}
      },
      "source": [
        ""
      ],
      "execution_count": null,
      "outputs": []
    },
    {
      "cell_type": "markdown",
      "metadata": {
        "id": "anf9EM5mBT7l",
        "colab_type": "text"
      },
      "source": [
        "## String Indexing\n",
        "\n",
        "```\n",
        "a = \"Hello, how are you?\"\n",
        "\n",
        "a[0]\n",
        "a[0:5]\n",
        "a[0:5] + a[-4:]\n",
        "```"
      ]
    },
    {
      "cell_type": "code",
      "metadata": {
        "id": "9PjWPStfBi2r",
        "colab_type": "code",
        "colab": {}
      },
      "source": [
        ""
      ],
      "execution_count": null,
      "outputs": []
    },
    {
      "cell_type": "markdown",
      "metadata": {
        "id": "slW_oq_QBi_O",
        "colab_type": "text"
      },
      "source": [
        "**Exercise 13**\n",
        "\n",
        "```\n",
        "a = [\"hi\",\"hello\",\"hey\",\"howdy\"]\n",
        "```\n",
        "\n",
        "Create a string b that combines the first two letters of each string element in list a using indexing."
      ]
    },
    {
      "cell_type": "code",
      "metadata": {
        "id": "XH3FLLArBx9S",
        "colab_type": "code",
        "colab": {}
      },
      "source": [
        ""
      ],
      "execution_count": null,
      "outputs": []
    },
    {
      "cell_type": "markdown",
      "metadata": {
        "id": "ECWmJpdmC7Bl",
        "colab_type": "text"
      },
      "source": [
        "# 4. If Statements & For Loops"
      ]
    },
    {
      "cell_type": "markdown",
      "metadata": {
        "id": "m0c7f49UBz7t",
        "colab_type": "text"
      },
      "source": [
        "## If Statements\n",
        "\n",
        "\n",
        "```\n",
        "a = 2\n",
        "b = 4\n",
        "\n",
        "if a == b:\n",
        "  print(a)\n",
        "```"
      ]
    },
    {
      "cell_type": "code",
      "metadata": {
        "id": "nE7whBSACJTd",
        "colab_type": "code",
        "colab": {}
      },
      "source": [
        ""
      ],
      "execution_count": null,
      "outputs": []
    },
    {
      "cell_type": "markdown",
      "metadata": {
        "id": "pkfUkxhNCJen",
        "colab_type": "text"
      },
      "source": [
        "**Exercise 14**\n",
        "\n",
        "```\n",
        "a = 2\n",
        "b = 4\n",
        "\n",
        "if a == b:\n",
        "  print(a)\n",
        "```\n",
        "\n",
        "Modify the code above so that the if condition is met and the output gives us a."
      ]
    },
    {
      "cell_type": "code",
      "metadata": {
        "id": "eKUmLPgWCUT1",
        "colab_type": "code",
        "colab": {}
      },
      "source": [
        ""
      ],
      "execution_count": null,
      "outputs": []
    },
    {
      "cell_type": "markdown",
      "metadata": {
        "id": "pbfGFHWuCUca",
        "colab_type": "text"
      },
      "source": [
        "\n",
        "```\n",
        "if a == b:\n",
        "  print(a)\n",
        "else:\n",
        "  print(\"Not equal\")\n",
        "```"
      ]
    },
    {
      "cell_type": "code",
      "metadata": {
        "id": "xmjBdudICcFo",
        "colab_type": "code",
        "colab": {}
      },
      "source": [
        ""
      ],
      "execution_count": null,
      "outputs": []
    },
    {
      "cell_type": "markdown",
      "metadata": {
        "id": "EdEpS07pCcbF",
        "colab_type": "text"
      },
      "source": [
        "**Exercise 15**\n",
        "\n",
        "What the output will be if you run the lines below?\n",
        "\n",
        "```\n",
        "a = 1\n",
        "b = 2\n",
        "c = 3\n",
        "\n",
        "if a > b:\n",
        "  a = a + b\n",
        "  print(a)\n",
        "else:\n",
        "  print(b)\n",
        "print(a)\n",
        "```\n"
      ]
    },
    {
      "cell_type": "code",
      "metadata": {
        "id": "dZuRXlK3CmxV",
        "colab_type": "code",
        "colab": {}
      },
      "source": [
        ""
      ],
      "execution_count": null,
      "outputs": []
    },
    {
      "cell_type": "markdown",
      "metadata": {
        "id": "tFl40Br5Cvv0",
        "colab_type": "text"
      },
      "source": [
        "## Elif\n",
        "\n",
        "```\n",
        "if a == b:\n",
        "  print(a+b)\n",
        "elif a > b:\n",
        "  print(a)\n",
        "else: \n",
        "  print(b)\n",
        "```\n"
      ]
    },
    {
      "cell_type": "code",
      "metadata": {
        "id": "2LzmPnVxDaW2",
        "colab_type": "code",
        "colab": {}
      },
      "source": [
        ""
      ],
      "execution_count": null,
      "outputs": []
    },
    {
      "cell_type": "markdown",
      "metadata": {
        "id": "38fhREjqDay9",
        "colab_type": "text"
      },
      "source": [
        "## For loops\n",
        "\n",
        "```\n",
        "a = [1,2,3,4,5,6]\n",
        "\n",
        "for i in a:\n",
        "  print(i)\n",
        "\n",
        "for i in a:\n",
        "  print(i + 2)\n",
        "```\n"
      ]
    },
    {
      "cell_type": "code",
      "metadata": {
        "id": "apETNMuNDkOe",
        "colab_type": "code",
        "colab": {}
      },
      "source": [
        ""
      ],
      "execution_count": null,
      "outputs": []
    },
    {
      "cell_type": "markdown",
      "metadata": {
        "id": "dbCJ5AdXDkXH",
        "colab_type": "text"
      },
      "source": [
        "**Exercise 16**\n",
        "\n",
        "```\n",
        "a = [1,2,3,4,5,6]\n",
        "```\n",
        "\n",
        "Create a for loop that prints only the first 3 elements of list a above."
      ]
    },
    {
      "cell_type": "code",
      "metadata": {
        "id": "fzn6tpXLDzKx",
        "colab_type": "code",
        "colab": {}
      },
      "source": [
        ""
      ],
      "execution_count": null,
      "outputs": []
    },
    {
      "cell_type": "markdown",
      "metadata": {
        "id": "MfCGZqDHDzTW",
        "colab_type": "text"
      },
      "source": [
        "\n",
        "\n",
        "```\n",
        "for i in a:\n",
        "  if i > 2:\n",
        "    print(i)\n",
        "\n",
        "b = [4,5]\n",
        "\n",
        "for i in a:\n",
        "  if i not in b:\n",
        "    print(i)\n",
        "```\n",
        "\n"
      ]
    },
    {
      "cell_type": "code",
      "metadata": {
        "id": "0XR1DJgaEJGK",
        "colab_type": "code",
        "colab": {}
      },
      "source": [
        ""
      ],
      "execution_count": null,
      "outputs": []
    },
    {
      "cell_type": "markdown",
      "metadata": {
        "id": "B-YEy9YaEJSc",
        "colab_type": "text"
      },
      "source": [
        "**Exercise 17**\n",
        "\n",
        "```\n",
        "a = [1,2,3,\"Hello\",4,5,\"Hi\",6]\n",
        "```\n",
        "\n",
        "Use a for loop and if statement to print out only the strings in list a."
      ]
    },
    {
      "cell_type": "code",
      "metadata": {
        "id": "oa0h2iIlEW8X",
        "colab_type": "code",
        "colab": {}
      },
      "source": [
        ""
      ],
      "execution_count": null,
      "outputs": []
    },
    {
      "cell_type": "markdown",
      "metadata": {
        "id": "mUn3UL62EagA",
        "colab_type": "text"
      },
      "source": [
        "**Exercise 18**\n",
        "\n",
        "```\n",
        "a = [1,2,3,\"Hello\",4,5,\"Hi\",6]\n",
        "```\n",
        "Create an empty list b. Use a for loop and if statement to add all string elements in list a above to list b. "
      ]
    },
    {
      "cell_type": "code",
      "metadata": {
        "id": "OhlnsXjGEwYV",
        "colab_type": "code",
        "colab": {}
      },
      "source": [
        ""
      ],
      "execution_count": null,
      "outputs": []
    },
    {
      "cell_type": "markdown",
      "metadata": {
        "id": "_UbL4Q43Ewfi",
        "colab_type": "text"
      },
      "source": [
        "**Exercise 19**\n",
        "\n",
        "Add one line to the output from exercise 18 to also remove all string elements from list a."
      ]
    },
    {
      "cell_type": "code",
      "metadata": {
        "id": "YtI0tYc1E40t",
        "colab_type": "code",
        "colab": {}
      },
      "source": [
        ""
      ],
      "execution_count": null,
      "outputs": []
    },
    {
      "cell_type": "markdown",
      "metadata": {
        "id": "QBTMiA4QF9My",
        "colab_type": "text"
      },
      "source": [
        "# 5. Dictionaries, Import"
      ]
    },
    {
      "cell_type": "markdown",
      "metadata": {
        "id": "DqaHIiH4E484",
        "colab_type": "text"
      },
      "source": [
        "## Dictionaries\n",
        "```\n",
        "dct1 = {'cat': 'feline', 'dog': 'canine'}\n",
        "dct1.keys()\n",
        "dct1.values()\n",
        "dct1['cat']\n",
        "```"
      ]
    },
    {
      "cell_type": "code",
      "metadata": {
        "id": "mheUTvw-FNbD",
        "colab_type": "code",
        "colab": {}
      },
      "source": [
        ""
      ],
      "execution_count": null,
      "outputs": []
    },
    {
      "cell_type": "markdown",
      "metadata": {
        "id": "nUrSdcyZFNwr",
        "colab_type": "text"
      },
      "source": [
        "**Exercise 20**\n",
        "```\n",
        "2**2\n",
        "4\n",
        "```\n",
        "Create a dictionary using numbers 1-5 as keys and their square power as values. Use this dictionary to find the square power of 3.\n"
      ]
    },
    {
      "cell_type": "code",
      "metadata": {
        "id": "OSmJhRQVFTGl",
        "colab_type": "code",
        "colab": {}
      },
      "source": [
        ""
      ],
      "execution_count": null,
      "outputs": []
    },
    {
      "cell_type": "markdown",
      "metadata": {
        "id": "yY5RTUNsFTbI",
        "colab_type": "text"
      },
      "source": [
        "```\n",
        "dct1['wolf'] = 'canine'\n",
        "dct1\n",
        "```"
      ]
    },
    {
      "cell_type": "code",
      "metadata": {
        "id": "9ScfcA4pFhlV",
        "colab_type": "code",
        "colab": {}
      },
      "source": [
        ""
      ],
      "execution_count": null,
      "outputs": []
    },
    {
      "cell_type": "markdown",
      "metadata": {
        "id": "Bmzs77FHFht1",
        "colab_type": "text"
      },
      "source": [
        "**Exercise 21**\n",
        "\n",
        "The values in dictionary entries can come in many data types. Modify the value of the entry for ‘cat’ to a list of characteristics of a cat.\n"
      ]
    },
    {
      "cell_type": "code",
      "metadata": {
        "id": "ZQQnvXjbFqOr",
        "colab_type": "code",
        "colab": {}
      },
      "source": [
        ""
      ],
      "execution_count": null,
      "outputs": []
    },
    {
      "cell_type": "markdown",
      "metadata": {
        "id": "tIj6gV72FqXT",
        "colab_type": "text"
      },
      "source": [
        "**Exercise 22**\n",
        "\n",
        "Combine your knowledge of indexing dictionaries and lists to output the first element of the list that is the dictionary value for the key 'cat.'\n"
      ]
    },
    {
      "cell_type": "code",
      "metadata": {
        "id": "eDI89JgBFtB0",
        "colab_type": "code",
        "colab": {}
      },
      "source": [
        ""
      ],
      "execution_count": null,
      "outputs": []
    },
    {
      "cell_type": "markdown",
      "metadata": {
        "id": "axNyz5CfFywT",
        "colab_type": "text"
      },
      "source": [
        "## Import\n",
        "\n",
        "```\n",
        "import random\n",
        "\n",
        "a = [1,2,4,5,6]\n",
        "random.shuffle(a)\n",
        "a\n",
        "```"
      ]
    },
    {
      "cell_type": "code",
      "metadata": {
        "id": "BF76_XAOGbjD",
        "colab_type": "code",
        "colab": {}
      },
      "source": [
        ""
      ],
      "execution_count": null,
      "outputs": []
    },
    {
      "cell_type": "markdown",
      "metadata": {
        "id": "8sYVikpAGb_U",
        "colab_type": "text"
      },
      "source": [
        "```\n",
        "from random import shuffle\n",
        "\n",
        "a = [1,2,4,5,6]\n",
        "shuffle(a)\n",
        "a\n",
        "```"
      ]
    },
    {
      "cell_type": "code",
      "metadata": {
        "id": "LscQYuRIGjMn",
        "colab_type": "code",
        "colab": {}
      },
      "source": [
        ""
      ],
      "execution_count": null,
      "outputs": []
    },
    {
      "cell_type": "markdown",
      "metadata": {
        "id": "xCReHkxfGkZa",
        "colab_type": "text"
      },
      "source": [
        "**Exercise 23**\n",
        "\n",
        "The randint(a,b) function in the random module gives you a random integer between numeric a and numeric b. Find a random integer between 1 and 10.\n"
      ]
    },
    {
      "cell_type": "code",
      "metadata": {
        "id": "3NpBy7-PGo1J",
        "colab_type": "code",
        "colab": {}
      },
      "source": [
        ""
      ],
      "execution_count": null,
      "outputs": []
    },
    {
      "cell_type": "markdown",
      "metadata": {
        "id": "sBvNkrYNGp_q",
        "colab_type": "text"
      },
      "source": [
        "```\n",
        "import os\n",
        "os.getcwd()\n",
        "```"
      ]
    },
    {
      "cell_type": "code",
      "metadata": {
        "id": "RB0Y_mHqPofV",
        "colab_type": "code",
        "colab": {}
      },
      "source": [
        ""
      ],
      "execution_count": null,
      "outputs": []
    },
    {
      "cell_type": "markdown",
      "metadata": {
        "id": "blID8YpRPo0R",
        "colab_type": "text"
      },
      "source": [
        "**Exercise 24**\n",
        "\n",
        "Set the string with the current directory to a variable. Set a new variable that is only the last 5 characters of the string.\n"
      ]
    },
    {
      "cell_type": "code",
      "metadata": {
        "id": "YdvqxBBJPrRO",
        "colab_type": "code",
        "colab": {}
      },
      "source": [
        ""
      ],
      "execution_count": null,
      "outputs": []
    },
    {
      "cell_type": "markdown",
      "metadata": {
        "id": "xbuVnmaqPrYo",
        "colab_type": "text"
      },
      "source": [
        "# 6. Open/Close, Input"
      ]
    },
    {
      "cell_type": "markdown",
      "metadata": {
        "id": "e6Pb9QcsPyk4",
        "colab_type": "text"
      },
      "source": [
        "## Open/Close\n",
        "\n",
        "```\n",
        "mytxt = open(\"mytxtfile.txt\",\"w\")\n",
        "\n",
        "mytxt.write(\"Hello.\\n\") \n",
        "mytxt.write(\"I made a new text file.\")\n",
        "\n",
        "mytxt.close()\n",
        "```\n"
      ]
    },
    {
      "cell_type": "code",
      "metadata": {
        "id": "rU3uRPuqP4Uy",
        "colab_type": "code",
        "colab": {}
      },
      "source": [
        ""
      ],
      "execution_count": null,
      "outputs": []
    },
    {
      "cell_type": "markdown",
      "metadata": {
        "id": "GBiqoUsyP4c3",
        "colab_type": "text"
      },
      "source": [
        "**Exercise 25**\n",
        "\n",
        "Create a variable and assign a string to it. Write a command so that the value of that variable is written as the next line in the mytxtfile file."
      ]
    },
    {
      "cell_type": "code",
      "metadata": {
        "id": "14GQA4W_QCoz",
        "colab_type": "code",
        "colab": {}
      },
      "source": [
        ""
      ],
      "execution_count": null,
      "outputs": []
    },
    {
      "cell_type": "markdown",
      "metadata": {
        "id": "IITFFHx3QCvd",
        "colab_type": "text"
      },
      "source": [
        "Create a text file by typing the words \"This is a text file.\" in a text editor or even in Spyder by opening up a new file and using Save As -> .txt. Save the text file as mynewtextfile in the same directory as skill6.py.\n",
        "\n",
        "```\n",
        "mytxt = open(\"mynewtextfile.txt\", \"r\") \n",
        "a = mytxt.read()\n",
        "mytxt.close()\n",
        "a\n",
        "```\n"
      ]
    },
    {
      "cell_type": "code",
      "metadata": {
        "id": "-qDuFt5yQSRA",
        "colab_type": "code",
        "colab": {}
      },
      "source": [
        ""
      ],
      "execution_count": null,
      "outputs": []
    },
    {
      "cell_type": "markdown",
      "metadata": {
        "id": "bF8-kIFFQSYv",
        "colab_type": "text"
      },
      "source": [
        "## Input\n",
        "\n",
        "```\n",
        "name = input(\"Enter your name: \")\n",
        "print(name)\n",
        "```\n"
      ]
    },
    {
      "cell_type": "code",
      "metadata": {
        "id": "7JFAbkpKQbkS",
        "colab_type": "code",
        "colab": {}
      },
      "source": [
        ""
      ],
      "execution_count": null,
      "outputs": []
    },
    {
      "cell_type": "markdown",
      "metadata": {
        "id": "48ivt-GtQb3m",
        "colab_type": "text"
      },
      "source": [
        "```\n",
        "name = input(\"Enter your name: \")\n",
        "greeting = \"Welcome, \" + name\n",
        "print(greeting)\n",
        "```"
      ]
    },
    {
      "cell_type": "code",
      "metadata": {
        "id": "Uzd0gDeYQezR",
        "colab_type": "code",
        "colab": {}
      },
      "source": [
        ""
      ],
      "execution_count": null,
      "outputs": []
    },
    {
      "cell_type": "markdown",
      "metadata": {
        "id": "juHhd-pHQe5V",
        "colab_type": "text"
      },
      "source": [
        "**Exercise 26**\n",
        "\n",
        "```\n",
        "petnames = {'daisy' : 'cat', 'fluffy' : 'dog', 'speedy' : 'turtle'}\n",
        "```\n",
        "Create an input variable called pet that asks for a pet's name. Print the pet type when a pet name is entered from the dictionary.\n"
      ]
    },
    {
      "cell_type": "code",
      "metadata": {
        "id": "CVkXzqH2Qr2S",
        "colab_type": "code",
        "colab": {}
      },
      "source": [
        ""
      ],
      "execution_count": null,
      "outputs": []
    },
    {
      "cell_type": "markdown",
      "metadata": {
        "id": "Q3-RRb5oQr8Q",
        "colab_type": "text"
      },
      "source": [
        "**Exercise 27**\n",
        "```\n",
        "petnames = {'daisy' : ['cat', 1, 'gray'], \n",
        "'fluffy' : ['dog', 5, 'black'], \n",
        "'speedy' : ['turtle', 5, 'green']}\n",
        "```\n",
        "\n",
        "Create a set of commands that will give you the same output as Exercise 2 using the new dictionary."
      ]
    },
    {
      "cell_type": "code",
      "metadata": {
        "id": "csKluGJcQvbu",
        "colab_type": "code",
        "colab": {}
      },
      "source": [
        ""
      ],
      "execution_count": null,
      "outputs": []
    },
    {
      "cell_type": "markdown",
      "metadata": {
        "id": "FT1kYyVCQvz1",
        "colab_type": "text"
      },
      "source": [
        "**Exercise 28**\n",
        "\n",
        "Using strings and operators, build and output a sentence that includes all characteristics of a pet when you enter a pet name. \n",
        "\n",
        "*Hint: You will need to convert the age from a numeric data type to a string using the str function.*\n",
        "```\n",
        "str(age)\n",
        "```\n"
      ]
    },
    {
      "cell_type": "code",
      "metadata": {
        "id": "uRDeZiluRJCr",
        "colab_type": "code",
        "colab": {}
      },
      "source": [
        ""
      ],
      "execution_count": null,
      "outputs": []
    },
    {
      "cell_type": "markdown",
      "metadata": {
        "id": "nKNfHEBRRJIr",
        "colab_type": "text"
      },
      "source": [
        "**Exercise 29**\n",
        "\n",
        "Modify Exercise 4's code so that the program checks if the pet name is in the dictionary. \n",
        "If the name is not in the dictionary, the code will print \"Pet not in dictionary.\" \n",
        "Or else the program will output the sentence from Exercise 4.\n"
      ]
    },
    {
      "cell_type": "code",
      "metadata": {
        "id": "IIRRs37aRSgO",
        "colab_type": "code",
        "colab": {}
      },
      "source": [
        ""
      ],
      "execution_count": null,
      "outputs": []
    },
    {
      "cell_type": "markdown",
      "metadata": {
        "id": "umcFL0T_RSrK",
        "colab_type": "text"
      },
      "source": [
        "# 7. User-defined Functions"
      ]
    },
    {
      "cell_type": "markdown",
      "metadata": {
        "id": "AKlJGqqeRcEH",
        "colab_type": "text"
      },
      "source": [
        "```\n",
        "def addtwo(mynum):\n",
        "  result = mynum + 2\n",
        "  return(result)\n",
        "\n",
        "a = 2\n",
        "addtwo(a)\n",
        "```\n",
        "\n",
        "**def** lets the program know that you are about to define a function. \n",
        "addtwo is the name given to this function. \n",
        "\n",
        "\n",
        "**mynum** is a placeholder for the object used inside this function. An object pulled from outside of this function is represented by variable mynum inside the function.\n",
        "\n",
        "**return** denotes what the output will be when the function is executed.\n",
        "\n"
      ]
    },
    {
      "cell_type": "code",
      "metadata": {
        "id": "Mx4iLBUFRsUb",
        "colab_type": "code",
        "colab": {}
      },
      "source": [
        ""
      ],
      "execution_count": null,
      "outputs": []
    },
    {
      "cell_type": "markdown",
      "metadata": {
        "id": "-v4rUOGWRtFG",
        "colab_type": "text"
      },
      "source": [
        "**Exercise 30**\n",
        "\n",
        "Create a function that takes a string and outputs the first letter of the string. Execute the function using any string."
      ]
    },
    {
      "cell_type": "code",
      "metadata": {
        "id": "LnGvy44-RxyC",
        "colab_type": "code",
        "colab": {}
      },
      "source": [
        ""
      ],
      "execution_count": null,
      "outputs": []
    },
    {
      "cell_type": "markdown",
      "metadata": {
        "id": "xGX5axpLRx3_",
        "colab_type": "text"
      },
      "source": [
        "```\n",
        "a = 2\n",
        "b = 3\n",
        "\n",
        "def subtract(num1,num2):\n",
        "  result = num1 - num2\n",
        "  return(result)\n",
        "\n",
        "subtract(a,b)\n",
        "subtract(2,3)\n",
        "```\n"
      ]
    },
    {
      "cell_type": "code",
      "metadata": {
        "id": "_WHFc-h0SAPn",
        "colab_type": "code",
        "colab": {}
      },
      "source": [
        ""
      ],
      "execution_count": null,
      "outputs": []
    },
    {
      "cell_type": "markdown",
      "metadata": {
        "id": "ukpc8lMSSAVs",
        "colab_type": "text"
      },
      "source": [
        "**Exercise 31**\n",
        "\n",
        "Determine how you would subtract a from b."
      ]
    },
    {
      "cell_type": "code",
      "metadata": {
        "id": "JiBrByJmSEWr",
        "colab_type": "code",
        "colab": {}
      },
      "source": [
        ""
      ],
      "execution_count": null,
      "outputs": []
    },
    {
      "cell_type": "markdown",
      "metadata": {
        "id": "L45WY5LQSEcU",
        "colab_type": "text"
      },
      "source": [
        "```\n",
        "subtract(num1 = a, num2 = b)\n",
        "subtract(num1 = b, numb2 = a)\n",
        "```\n"
      ]
    },
    {
      "cell_type": "code",
      "metadata": {
        "id": "1CVbg9CxSGtO",
        "colab_type": "code",
        "colab": {}
      },
      "source": [
        ""
      ],
      "execution_count": null,
      "outputs": []
    },
    {
      "cell_type": "markdown",
      "metadata": {
        "id": "E7d4E_tpSGzS",
        "colab_type": "text"
      },
      "source": [
        "**Exercise 32**\n",
        "\n",
        "Modify your function from Exercise 1 so that a new entry is created in mystringdict with the string as the entry key and the first letter of the string as the entry value.\n",
        "\n",
        "Have the function return mystringdict. \n",
        "\n",
        "Execute the function using any string.\n"
      ]
    },
    {
      "cell_type": "code",
      "metadata": {
        "id": "AmhItP7aSMCW",
        "colab_type": "code",
        "colab": {}
      },
      "source": [
        ""
      ],
      "execution_count": null,
      "outputs": []
    },
    {
      "cell_type": "markdown",
      "metadata": {
        "id": "yKMzSqB2SMJD",
        "colab_type": "text"
      },
      "source": [
        "Treat user-defined functions like any function you previously learned.\n",
        "\n",
        "```\n",
        "mystringdict = {}\n",
        "\n",
        "def firstletter(mystring):\n",
        "  firstletter = mystring[0]\n",
        "  return(firstletter)\n",
        "\n",
        "firstletter('ThisString')\n",
        "\n",
        "a = ['cat','dog','turtle']\n",
        "\n",
        "for i in a:\n",
        "  print(firstletter(i))\n",
        "```"
      ]
    },
    {
      "cell_type": "code",
      "metadata": {
        "id": "usoNug3GSWmk",
        "colab_type": "code",
        "colab": {}
      },
      "source": [
        ""
      ],
      "execution_count": null,
      "outputs": []
    }
  ]
}