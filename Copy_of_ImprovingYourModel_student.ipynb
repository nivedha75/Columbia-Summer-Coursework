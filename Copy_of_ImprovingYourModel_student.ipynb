{
  "nbformat": 4,
  "nbformat_minor": 0,
  "metadata": {
    "colab": {
      "name": "Copy of ImprovingYourModel_student.ipynb",
      "provenance": [],
      "collapsed_sections": [
        "mfPupYLRQFc5",
        "7tcsGI2XQMxC"
      ],
      "include_colab_link": true
    },
    "kernelspec": {
      "name": "python3",
      "display_name": "Python 3"
    }
  },
  "cells": [
    {
      "cell_type": "markdown",
      "metadata": {
        "id": "view-in-github",
        "colab_type": "text"
      },
      "source": [
        "<a href=\"https://colab.research.google.com/github/nivedha75/Columbia-Summer-Coursework/blob/master/Copy_of_ImprovingYourModel_student.ipynb\" target=\"_parent\"><img src=\"https://colab.research.google.com/assets/colab-badge.svg\" alt=\"Open In Colab\"/></a>"
      ]
    },
    {
      "cell_type": "markdown",
      "metadata": {
        "id": "mfPupYLRQFc5",
        "colab_type": "text"
      },
      "source": [
        "## 1. Load our data"
      ]
    },
    {
      "cell_type": "code",
      "metadata": {
        "id": "F5lYmW8CzkQ2",
        "colab_type": "code",
        "colab": {
          "base_uri": "https://localhost:8080/",
          "height": 34
        },
        "outputId": "49e2fb08-15fa-4750-b332-13a035fd87ae"
      },
      "source": [
        "import pandas as pd\n",
        "\n",
        "from google.colab import drive\n",
        "drive.mount('/content/gdrive')\n",
        "\n",
        "df_titanic = pd.read_csv('/content/gdrive/My Drive/titanic (1).csv')"
      ],
      "execution_count": null,
      "outputs": [
        {
          "output_type": "stream",
          "text": [
            "Drive already mounted at /content/gdrive; to attempt to forcibly remount, call drive.mount(\"/content/gdrive\", force_remount=True).\n"
          ],
          "name": "stdout"
        }
      ]
    },
    {
      "cell_type": "markdown",
      "metadata": {
        "id": "DX2wtKMqbgAf",
        "colab_type": "text"
      },
      "source": [
        "```\n",
        "df_titanic.head()\n",
        "```"
      ]
    },
    {
      "cell_type": "code",
      "metadata": {
        "id": "SmgoOiZtbklw",
        "colab_type": "code",
        "colab": {
          "base_uri": "https://localhost:8080/",
          "height": 195
        },
        "outputId": "5e93d787-3816-42fe-894c-89422c34c08b"
      },
      "source": [
        "df_titanic.head()"
      ],
      "execution_count": null,
      "outputs": [
        {
          "output_type": "execute_result",
          "data": {
            "text/html": [
              "<div>\n",
              "<style scoped>\n",
              "    .dataframe tbody tr th:only-of-type {\n",
              "        vertical-align: middle;\n",
              "    }\n",
              "\n",
              "    .dataframe tbody tr th {\n",
              "        vertical-align: top;\n",
              "    }\n",
              "\n",
              "    .dataframe thead th {\n",
              "        text-align: right;\n",
              "    }\n",
              "</style>\n",
              "<table border=\"1\" class=\"dataframe\">\n",
              "  <thead>\n",
              "    <tr style=\"text-align: right;\">\n",
              "      <th></th>\n",
              "      <th>Survived</th>\n",
              "      <th>Pclass</th>\n",
              "      <th>Name</th>\n",
              "      <th>Sex</th>\n",
              "      <th>Age</th>\n",
              "      <th>Siblings/Spouses Aboard</th>\n",
              "      <th>Parents/Children Aboard</th>\n",
              "      <th>Fare</th>\n",
              "    </tr>\n",
              "  </thead>\n",
              "  <tbody>\n",
              "    <tr>\n",
              "      <th>0</th>\n",
              "      <td>0</td>\n",
              "      <td>3</td>\n",
              "      <td>Mr. Owen Harris Braund</td>\n",
              "      <td>male</td>\n",
              "      <td>22.0</td>\n",
              "      <td>1</td>\n",
              "      <td>0</td>\n",
              "      <td>7.2500</td>\n",
              "    </tr>\n",
              "    <tr>\n",
              "      <th>1</th>\n",
              "      <td>1</td>\n",
              "      <td>1</td>\n",
              "      <td>Mrs. John Bradley (Florence Briggs Thayer) Cum...</td>\n",
              "      <td>female</td>\n",
              "      <td>38.0</td>\n",
              "      <td>1</td>\n",
              "      <td>0</td>\n",
              "      <td>71.2833</td>\n",
              "    </tr>\n",
              "    <tr>\n",
              "      <th>2</th>\n",
              "      <td>1</td>\n",
              "      <td>3</td>\n",
              "      <td>Miss. Laina Heikkinen</td>\n",
              "      <td>female</td>\n",
              "      <td>26.0</td>\n",
              "      <td>0</td>\n",
              "      <td>0</td>\n",
              "      <td>7.9250</td>\n",
              "    </tr>\n",
              "    <tr>\n",
              "      <th>3</th>\n",
              "      <td>1</td>\n",
              "      <td>1</td>\n",
              "      <td>Mrs. Jacques Heath (Lily May Peel) Futrelle</td>\n",
              "      <td>female</td>\n",
              "      <td>35.0</td>\n",
              "      <td>1</td>\n",
              "      <td>0</td>\n",
              "      <td>53.1000</td>\n",
              "    </tr>\n",
              "    <tr>\n",
              "      <th>4</th>\n",
              "      <td>0</td>\n",
              "      <td>3</td>\n",
              "      <td>Mr. William Henry Allen</td>\n",
              "      <td>male</td>\n",
              "      <td>35.0</td>\n",
              "      <td>0</td>\n",
              "      <td>0</td>\n",
              "      <td>8.0500</td>\n",
              "    </tr>\n",
              "  </tbody>\n",
              "</table>\n",
              "</div>"
            ],
            "text/plain": [
              "   Survived  Pclass  ... Parents/Children Aboard     Fare\n",
              "0         0       3  ...                       0   7.2500\n",
              "1         1       1  ...                       0  71.2833\n",
              "2         1       3  ...                       0   7.9250\n",
              "3         1       1  ...                       0  53.1000\n",
              "4         0       3  ...                       0   8.0500\n",
              "\n",
              "[5 rows x 8 columns]"
            ]
          },
          "metadata": {
            "tags": []
          },
          "execution_count": 4
        }
      ]
    },
    {
      "cell_type": "markdown",
      "metadata": {
        "id": "aiuQjPAabl7s",
        "colab_type": "text"
      },
      "source": [
        "```\n",
        "import seaborn as sns\n",
        "sns.boxplot(x='Survived', y=\"Age\", data=df_titanic)\n",
        "```"
      ]
    },
    {
      "cell_type": "code",
      "metadata": {
        "id": "gt6QWFdBbp0c",
        "colab_type": "code",
        "colab": {
          "base_uri": "https://localhost:8080/",
          "height": 350
        },
        "outputId": "3473b879-eeb3-44db-f6af-257dcad5a723"
      },
      "source": [
        "import seaborn as sns\n",
        "sns.boxplot(x='Survived', y=\"Age\", data=df_titanic)"
      ],
      "execution_count": null,
      "outputs": [
        {
          "output_type": "stream",
          "text": [
            "/usr/local/lib/python3.6/dist-packages/statsmodels/tools/_testing.py:19: FutureWarning: pandas.util.testing is deprecated. Use the functions in the public API at pandas.testing instead.\n",
            "  import pandas.util.testing as tm\n"
          ],
          "name": "stderr"
        },
        {
          "output_type": "execute_result",
          "data": {
            "text/plain": [
              "<matplotlib.axes._subplots.AxesSubplot at 0x7f694f8352e8>"
            ]
          },
          "metadata": {
            "tags": []
          },
          "execution_count": 5
        },
        {
          "output_type": "display_data",
          "data": {
            "image/png": "[encoded data removed]",
            "text/plain": [
              "<Figure size 432x288 with 1 Axes>"
            ]
          },
          "metadata": {
            "tags": [],
            "needs_background": "light"
          }
        }
      ]
    },
    {
      "cell_type": "markdown",
      "metadata": {
        "id": "kuJBXbXFbqLq",
        "colab_type": "text"
      },
      "source": [
        "```\n",
        "df_titanic['familysize'] = df_titanic['Siblings/Spouses Aboard'] + df_titanic['Parents/Children Aboard'] + 1\n",
        "```"
      ]
    },
    {
      "cell_type": "code",
      "metadata": {
        "id": "5OJ0XfpIbt_b",
        "colab_type": "code",
        "colab": {}
      },
      "source": [
        "df_titanic['familysize'] = df_titanic['Siblings/Spouses Aboard'] + df_titanic['Parents/Children Aboard'] + 1"
      ],
      "execution_count": null,
      "outputs": []
    },
    {
      "cell_type": "markdown",
      "metadata": {
        "id": "6wRwq8sMbvF8",
        "colab_type": "text"
      },
      "source": [
        "```\n",
        "sns.boxplot(x='Survived', y=\"familysize\", data=df_titanic)\n",
        "```\n",
        "\n"
      ]
    },
    {
      "cell_type": "code",
      "metadata": {
        "id": "aONrzSkgby5i",
        "colab_type": "code",
        "colab": {
          "base_uri": "https://localhost:8080/",
          "height": 296
        },
        "outputId": "b40b0fb5-68c9-478a-d7fb-a221ea19449b"
      },
      "source": [
        "sns.boxplot(x='Survived', y=\"familysize\", data=df_titanic)"
      ],
      "execution_count": null,
      "outputs": [
        {
          "output_type": "execute_result",
          "data": {
            "text/plain": [
              "<matplotlib.axes._subplots.AxesSubplot at 0x7f694f0369b0>"
            ]
          },
          "metadata": {
            "tags": []
          },
          "execution_count": 7
        },
        {
          "output_type": "display_data",
          "data": {
            "image/png": "[encoded data removed]",
            "text/plain": [
              "<Figure size 432x288 with 1 Axes>"
            ]
          },
          "metadata": {
            "tags": [],
            "needs_background": "light"
          }
        }
      ]
    },
    {
      "cell_type": "markdown",
      "metadata": {
        "id": "SBm_dkrVb2PG",
        "colab_type": "text"
      },
      "source": [
        "```\n",
        "df_titanic['alone'] = 0\n",
        "df_titanic.loc[df_titanic['familysize'] == 1,'alone'] = 1\n",
        "\n",
        "pd.crosstab(df_titanic.Survived, df_titanic.alone).apply(lambda r: r/r.sum(), axis=1)\n",
        "```"
      ]
    },
    {
      "cell_type": "code",
      "metadata": {
        "id": "kfEM9m7Ib6IC",
        "colab_type": "code",
        "colab": {
          "base_uri": "https://localhost:8080/",
          "height": 136
        },
        "outputId": "6cdbf8aa-25b4-42a5-ced7-1fef7e120323"
      },
      "source": [
        "df_titanic['alone'] = 0\n",
        "df_titanic.loc[df_titanic['familysize'] == 1,'alone'] = 1\n",
        " \n",
        "pd.crosstab(df_titanic.Survived, df_titanic.alone).apply(lambda r: r/r.sum(), axis=1)"
      ],
      "execution_count": null,
      "outputs": [
        {
          "output_type": "execute_result",
          "data": {
            "text/html": [
              "<div>\n",
              "<style scoped>\n",
              "    .dataframe tbody tr th:only-of-type {\n",
              "        vertical-align: middle;\n",
              "    }\n",
              "\n",
              "    .dataframe tbody tr th {\n",
              "        vertical-align: top;\n",
              "    }\n",
              "\n",
              "    .dataframe thead th {\n",
              "        text-align: right;\n",
              "    }\n",
              "</style>\n",
              "<table border=\"1\" class=\"dataframe\">\n",
              "  <thead>\n",
              "    <tr style=\"text-align: right;\">\n",
              "      <th>alone</th>\n",
              "      <th>0</th>\n",
              "      <th>1</th>\n",
              "    </tr>\n",
              "    <tr>\n",
              "      <th>Survived</th>\n",
              "      <th></th>\n",
              "      <th></th>\n",
              "    </tr>\n",
              "  </thead>\n",
              "  <tbody>\n",
              "    <tr>\n",
              "      <th>0</th>\n",
              "      <td>0.321101</td>\n",
              "      <td>0.678899</td>\n",
              "    </tr>\n",
              "    <tr>\n",
              "      <th>1</th>\n",
              "      <td>0.523392</td>\n",
              "      <td>0.476608</td>\n",
              "    </tr>\n",
              "  </tbody>\n",
              "</table>\n",
              "</div>"
            ],
            "text/plain": [
              "alone            0         1\n",
              "Survived                    \n",
              "0         0.321101  0.678899\n",
              "1         0.523392  0.476608"
            ]
          },
          "metadata": {
            "tags": []
          },
          "execution_count": 8
        }
      ]
    },
    {
      "cell_type": "markdown",
      "metadata": {
        "id": "c3I7kALWQ-oB",
        "colab_type": "text"
      },
      "source": [
        "## 3. Standardize the data\n"
      ]
    },
    {
      "cell_type": "markdown",
      "metadata": {
        "id": "n0bPQ50bcAWC",
        "colab_type": "text"
      },
      "source": [
        "```\n",
        "from sklearn.preprocessing import StandardScaler\n",
        "\n",
        "scaler = StandardScaler()\n",
        "\n",
        "scaled = scaler.fit_transform(df_titanic[['Fare','Age','familysize']])\n",
        "\n",
        "\n",
        "df_scaled = pd.DataFrame(data=scaled, columns=['Fare_scaled',\n",
        " 'Age_scaled','familysize_scaled'])\n",
        "\n",
        "df_titanic = df_titanic.join(df_scaled)\n",
        "```"
      ]
    },
    {
      "cell_type": "code",
      "metadata": {
        "id": "uuCJipKXRZ-D",
        "colab_type": "code",
        "colab": {
          "base_uri": "https://localhost:8080/",
          "height": 246
        },
        "outputId": "b905683b-e461-4df0-c9ab-299badde4fa4"
      },
      "source": [
        "from sklearn.preprocessing import StandardScaler\n",
        " \n",
        "scaler = StandardScaler()\n",
        " \n",
        "scaled = scaler.fit_transform(df_titanic[['Fare','Age','familysize']])\n",
        " \n",
        " \n",
        "df_scaled = pd.DataFrame(data=scaled, columns=['Fare_scaled',\n",
        " 'Age_scaled','familysize_scaled'])\n",
        " \n",
        "df_titanic = df_titanic.join(df_scaled)\n",
        "df_titanic.head()"
      ],
      "execution_count": null,
      "outputs": [
        {
          "output_type": "execute_result",
          "data": {
            "text/html": [
              "<div>\n",
              "<style scoped>\n",
              "    .dataframe tbody tr th:only-of-type {\n",
              "        vertical-align: middle;\n",
              "    }\n",
              "\n",
              "    .dataframe tbody tr th {\n",
              "        vertical-align: top;\n",
              "    }\n",
              "\n",
              "    .dataframe thead th {\n",
              "        text-align: right;\n",
              "    }\n",
              "</style>\n",
              "<table border=\"1\" class=\"dataframe\">\n",
              "  <thead>\n",
              "    <tr style=\"text-align: right;\">\n",
              "      <th></th>\n",
              "      <th>Survived</th>\n",
              "      <th>Pclass</th>\n",
              "      <th>Name</th>\n",
              "      <th>Sex</th>\n",
              "      <th>Age</th>\n",
              "      <th>Siblings/Spouses Aboard</th>\n",
              "      <th>Parents/Children Aboard</th>\n",
              "      <th>Fare</th>\n",
              "      <th>familysize</th>\n",
              "      <th>alone</th>\n",
              "      <th>Fare_scaled</th>\n",
              "      <th>Age_scaled</th>\n",
              "      <th>familysize_scaled</th>\n",
              "    </tr>\n",
              "  </thead>\n",
              "  <tbody>\n",
              "    <tr>\n",
              "      <th>0</th>\n",
              "      <td>0</td>\n",
              "      <td>3</td>\n",
              "      <td>Mr. Owen Harris Braund</td>\n",
              "      <td>male</td>\n",
              "      <td>22.0</td>\n",
              "      <td>1</td>\n",
              "      <td>0</td>\n",
              "      <td>7.2500</td>\n",
              "      <td>2</td>\n",
              "      <td>0</td>\n",
              "      <td>-0.503586</td>\n",
              "      <td>-0.529366</td>\n",
              "      <td>0.056543</td>\n",
              "    </tr>\n",
              "    <tr>\n",
              "      <th>1</th>\n",
              "      <td>1</td>\n",
              "      <td>1</td>\n",
              "      <td>Mrs. John Bradley (Florence Briggs Thayer) Cum...</td>\n",
              "      <td>female</td>\n",
              "      <td>38.0</td>\n",
              "      <td>1</td>\n",
              "      <td>0</td>\n",
              "      <td>71.2833</td>\n",
              "      <td>2</td>\n",
              "      <td>0</td>\n",
              "      <td>0.783412</td>\n",
              "      <td>0.604265</td>\n",
              "      <td>0.056543</td>\n",
              "    </tr>\n",
              "    <tr>\n",
              "      <th>2</th>\n",
              "      <td>1</td>\n",
              "      <td>3</td>\n",
              "      <td>Miss. Laina Heikkinen</td>\n",
              "      <td>female</td>\n",
              "      <td>26.0</td>\n",
              "      <td>0</td>\n",
              "      <td>0</td>\n",
              "      <td>7.9250</td>\n",
              "      <td>1</td>\n",
              "      <td>1</td>\n",
              "      <td>-0.490020</td>\n",
              "      <td>-0.245958</td>\n",
              "      <td>-0.562638</td>\n",
              "    </tr>\n",
              "    <tr>\n",
              "      <th>3</th>\n",
              "      <td>1</td>\n",
              "      <td>1</td>\n",
              "      <td>Mrs. Jacques Heath (Lily May Peel) Futrelle</td>\n",
              "      <td>female</td>\n",
              "      <td>35.0</td>\n",
              "      <td>1</td>\n",
              "      <td>0</td>\n",
              "      <td>53.1000</td>\n",
              "      <td>2</td>\n",
              "      <td>0</td>\n",
              "      <td>0.417948</td>\n",
              "      <td>0.391709</td>\n",
              "      <td>0.056543</td>\n",
              "    </tr>\n",
              "    <tr>\n",
              "      <th>4</th>\n",
              "      <td>0</td>\n",
              "      <td>3</td>\n",
              "      <td>Mr. William Henry Allen</td>\n",
              "      <td>male</td>\n",
              "      <td>35.0</td>\n",
              "      <td>0</td>\n",
              "      <td>0</td>\n",
              "      <td>8.0500</td>\n",
              "      <td>1</td>\n",
              "      <td>1</td>\n",
              "      <td>-0.487507</td>\n",
              "      <td>0.391709</td>\n",
              "      <td>-0.562638</td>\n",
              "    </tr>\n",
              "  </tbody>\n",
              "</table>\n",
              "</div>"
            ],
            "text/plain": [
              "   Survived  Pclass  ... Age_scaled familysize_scaled\n",
              "0         0       3  ...  -0.529366          0.056543\n",
              "1         1       1  ...   0.604265          0.056543\n",
              "2         1       3  ...  -0.245958         -0.562638\n",
              "3         1       1  ...   0.391709          0.056543\n",
              "4         0       3  ...   0.391709         -0.562638\n",
              "\n",
              "[5 rows x 13 columns]"
            ]
          },
          "metadata": {
            "tags": []
          },
          "execution_count": 9
        }
      ]
    },
    {
      "cell_type": "markdown",
      "metadata": {
        "id": "ucVcW48hQcqv",
        "colab_type": "text"
      },
      "source": [
        "## 4. Run the models - with Cross-Validation\n"
      ]
    },
    {
      "cell_type": "markdown",
      "metadata": {
        "id": "2S4pzD467kQa",
        "colab_type": "text"
      },
      "source": [
        "```\n",
        "df_titanic = df_titanic.join(pd.get_dummies(df_titanic['Pclass'], prefix = 'pclass'))\n",
        "df_titanic = df_titanic.join(pd.get_dummies(df_titanic['Sex'], prefix = 'sex'))\n",
        "```"
      ]
    },
    {
      "cell_type": "code",
      "metadata": {
        "id": "pwV_h8l8m2yd",
        "colab_type": "code",
        "colab": {}
      },
      "source": [
        "df_titanic = df_titanic.join(pd.get_dummies(df_titanic['Pclass'], prefix = 'pclass'))\n",
        "df_titanic = df_titanic.join(pd.get_dummies(df_titanic['Sex'], prefix = 'sex'))"
      ],
      "execution_count": null,
      "outputs": []
    },
    {
      "cell_type": "markdown",
      "metadata": {
        "id": "sJVKEd8B7rVb",
        "colab_type": "text"
      },
      "source": [
        "```\n",
        "import numpy as np\n",
        "from sklearn.model_selection import cross_val_score\n",
        "from sklearn.linear_model import LogisticRegression\n",
        "from sklearn.neighbors import KNeighborsClassifier\n",
        "\n",
        "LR = LogisticRegression()\n",
        "KNN = KNeighborsClassifier(n_neighbors=10)\n",
        " \n",
        "X = df_titanic[['Age_scaled','Fare_scaled','familysize_scaled','alone','sex_female','pclass_1','pclass_2','pclass_3']]\n",
        "y = df_titanic['Survived']\n",
        " \n",
        " \n",
        "print(np.mean(cross_val_score(LR, X, y, cv=5, scoring = 'f1_macro')))\n",
        "print(np.mean(cross_val_score(KNN, X, y, cv=5, scoring = 'f1_macro')))\n",
        "```"
      ]
    },
    {
      "cell_type": "code",
      "metadata": {
        "id": "4WbVbXqbxds_",
        "colab_type": "code",
        "colab": {
          "base_uri": "https://localhost:8080/",
          "height": 50
        },
        "outputId": "7f45903e-847a-412a-8f0b-2b5d5c86ee6f"
      },
      "source": [
        "import numpy as np\n",
        "from sklearn.model_selection import cross_val_score\n",
        "from sklearn.linear_model import LogisticRegression\n",
        "from sklearn.neighbors import KNeighborsClassifier\n",
        " \n",
        "LR = LogisticRegression()\n",
        "KNN = KNeighborsClassifier(n_neighbors=10)\n",
        " \n",
        "X = df_titanic[['Age_scaled','Fare_scaled','familysize_scaled','alone','sex_female','pclass_1','pclass_2','pclass_3']]\n",
        "y = df_titanic['Survived']\n",
        " \n",
        " \n",
        "print(np.mean(cross_val_score(LR, X, y, cv=5, scoring = 'f1_macro')))\n",
        "print(np.mean(cross_val_score(KNN, X, y, cv=5, scoring = 'f1_macro')))"
      ],
      "execution_count": null,
      "outputs": [
        {
          "output_type": "stream",
          "text": [
            "0.7815133539986352\n",
            "0.7827111686277197\n"
          ],
          "name": "stdout"
        }
      ]
    },
    {
      "cell_type": "markdown",
      "metadata": {
        "id": "EfWrf2Eb7veL",
        "colab_type": "text"
      },
      "source": [
        "```\n",
        "from mlxtend.plotting import plot_sequential_feature_selection as plot_sfs\n",
        "import matplotlib.pyplot as plt\n",
        "\n",
        "sfs = SFS(LR, \n",
        "          k_features=8, \n",
        "          scoring='f1_macro',\n",
        "          cv=5)\n",
        "sfs = sfs.fit(X, y)\n",
        "sfs.get_metric_dict()\n",
        "```"
      ]
    },
    {
      "cell_type": "code",
      "metadata": {
        "id": "H5RJGym30RRx",
        "colab_type": "code",
        "colab": {
          "base_uri": "https://localhost:8080/",
          "height": 1000
        },
        "outputId": "35d6d3e2-41af-4f2d-b4e1-37b8550c87e6"
      },
      "source": [
        "from mlxtend.feature_selection import SequentialFeatureSelector as SFS\n",
        "\n",
        "from mlxtend.plotting import plot_sequential_feature_selection as plot_sfs\n",
        "import matplotlib.pyplot as plt\n",
        " \n",
        "sfs = SFS(LR, \n",
        "          k_features=8, \n",
        "          scoring='f1_macro',\n",
        "          cv=5)\n",
        "sfs = sfs.fit(X, y)\n",
        "sfs.get_metric_dict()"
      ],
      "execution_count": null,
      "outputs": [
        {
          "output_type": "stream",
          "text": [
            "/usr/local/lib/python3.6/dist-packages/sklearn/externals/joblib/__init__.py:15: FutureWarning: sklearn.externals.joblib is deprecated in 0.21 and will be removed in 0.23. Please import this functionality directly from joblib, which can be installed with: pip install joblib. If this warning is raised when loading pickled models, you may need to re-serialize those models with scikit-learn 0.21+.\n",
            "  warnings.warn(msg, category=FutureWarning)\n"
          ],
          "name": "stderr"
        },
        {
          "output_type": "execute_result",
          "data": {
            "text/plain": [
              "{1: {'avg_score': 0.7696868286390023,\n",
              "  'ci_bound': 0.03046810230546684,\n",
              "  'cv_scores': array([0.7923541 , 0.79118485, 0.77047502, 0.72692847, 0.7674917 ]),\n",
              "  'feature_idx': (4,),\n",
              "  'feature_names': ('sex_female',),\n",
              "  'std_dev': 0.02370521869522817,\n",
              "  'std_err': 0.011852609347614083},\n",
              " 2: {'avg_score': 0.7729021660300491,\n",
              "  'ci_bound': 0.03192831992907759,\n",
              "  'cv_scores': array([0.7923541 , 0.79655775, 0.77047502, 0.72692847, 0.77819549]),\n",
              "  'feature_idx': (2, 4),\n",
              "  'feature_names': ('familysize_scaled', 'sex_female'),\n",
              "  'std_dev': 0.024841317614789308,\n",
              "  'std_err': 0.012420658807394654},\n",
              " 3: {'avg_score': 0.7817548662963618,\n",
              "  'ci_bound': 0.026379490829959117,\n",
              "  'cv_scores': array([0.80612662, 0.79531926, 0.77047502, 0.74786325, 0.78899018]),\n",
              "  'feature_idx': (2, 4, 7),\n",
              "  'feature_names': ('familysize_scaled', 'sex_female', 'pclass_3'),\n",
              "  'std_dev': 0.02052414006371328,\n",
              "  'std_err': 0.010262070031856639},\n",
              " 4: {'avg_score': 0.790331699827139,\n",
              "  'ci_bound': 0.018145701397619732,\n",
              "  'cv_scores': array([0.80612662, 0.79531926, 0.79196626, 0.76382127, 0.79442509]),\n",
              "  'feature_idx': (2, 3, 4, 7),\n",
              "  'feature_names': ('familysize_scaled', 'alone', 'sex_female', 'pclass_3'),\n",
              "  'std_dev': 0.014117972156464188,\n",
              "  'std_err': 0.007058986078232093},\n",
              " 5: {'avg_score': 0.7911925872587552,\n",
              "  'ci_bound': 0.025730636191491258,\n",
              "  'cv_scores': array([0.78699641, 0.8127905 , 0.77719185, 0.76382127, 0.81516291]),\n",
              "  'feature_idx': (0, 2, 3, 4, 7),\n",
              "  'feature_names': ('Age_scaled',\n",
              "   'familysize_scaled',\n",
              "   'alone',\n",
              "   'sex_female',\n",
              "   'pclass_3'),\n",
              "  'std_dev': 0.02001930911126062,\n",
              "  'std_err': 0.01000965455563031},\n",
              " 6: {'avg_score': 0.7874852578097584,\n",
              "  'ci_bound': 0.02281787668009805,\n",
              "  'cv_scores': array([0.79772727, 0.80735931, 0.75589492, 0.7820197 , 0.79442509]),\n",
              "  'feature_idx': (0, 1, 2, 3, 4, 7),\n",
              "  'feature_names': ('Age_scaled',\n",
              "   'Fare_scaled',\n",
              "   'familysize_scaled',\n",
              "   'alone',\n",
              "   'sex_female',\n",
              "   'pclass_3'),\n",
              "  'std_dev': 0.017753083255382728,\n",
              "  'std_err': 0.008876541627691362},\n",
              " 7: {'avg_score': 0.7828919212318566,\n",
              "  'ci_bound': 0.01910156730639549,\n",
              "  'cv_scores': array([0.75804794, 0.79118485, 0.77848808, 0.78389831, 0.80284043]),\n",
              "  'feature_idx': (0, 1, 2, 3, 4, 5, 7),\n",
              "  'feature_names': ('Age_scaled',\n",
              "   'Fare_scaled',\n",
              "   'familysize_scaled',\n",
              "   'alone',\n",
              "   'sex_female',\n",
              "   'pclass_1',\n",
              "   'pclass_3'),\n",
              "  'std_dev': 0.014861668307398298,\n",
              "  'std_err': 0.007430834153699148},\n",
              " 8: {'avg_score': 0.7815133539986352,\n",
              "  'ci_bound': 0.016928322773753172,\n",
              "  'cv_scores': array([0.75804794, 0.79118485, 0.77848808, 0.78389831, 0.7959476 ]),\n",
              "  'feature_idx': (0, 1, 2, 3, 4, 5, 6, 7),\n",
              "  'feature_names': ('Age_scaled',\n",
              "   'Fare_scaled',\n",
              "   'familysize_scaled',\n",
              "   'alone',\n",
              "   'sex_female',\n",
              "   'pclass_1',\n",
              "   'pclass_2',\n",
              "   'pclass_3'),\n",
              "  'std_dev': 0.013170810228742988,\n",
              "  'std_err': 0.006585405114371494}}"
            ]
          },
          "metadata": {
            "tags": []
          },
          "execution_count": 12
        }
      ]
    },
    {
      "cell_type": "markdown",
      "metadata": {
        "id": "hVXnqr5U7zDf",
        "colab_type": "text"
      },
      "source": [
        "```\n",
        "fig = plot_sfs(sfs.get_metric_dict(), kind='std_err')\n",
        "plt.title('Sequential Forward Selection (w. StdErr)')\n",
        "plt.grid()\n",
        "plt.show()\n",
        "```"
      ]
    },
    {
      "cell_type": "code",
      "metadata": {
        "id": "mKvb7FW70snV",
        "colab_type": "code",
        "colab": {
          "base_uri": "https://localhost:8080/",
          "height": 295
        },
        "outputId": "5842f773-2652-4554-8595-f5226e673ff4"
      },
      "source": [
        "fig = plot_sfs(sfs.get_metric_dict(), kind='std_err')\n",
        "plt.title('Sequential Forward Selection (w. StdErr)')\n",
        "plt.grid()\n",
        "plt.show()"
      ],
      "execution_count": null,
      "outputs": [
        {
          "output_type": "display_data",
          "data": {
            "image/png": "[encoded data removed]",
            "text/plain": [
              "<Figure size 432x288 with 1 Axes>"
            ]
          },
          "metadata": {
            "tags": [],
            "needs_background": "light"
          }
        }
      ]
    },
    {
      "cell_type": "markdown",
      "metadata": {
        "id": "v2xadMLg73ia",
        "colab_type": "text"
      },
      "source": [
        "```\n",
        "sfs = SFS(KNN, \n",
        "          k_features=8, \n",
        "          scoring='f1_macro',\n",
        "          cv=5)\n",
        "sfs = sfs.fit(X, y)\n",
        "sfs.get_metric_dict()\n",
        "```"
      ]
    },
    {
      "cell_type": "code",
      "metadata": {
        "id": "-xICEwUpnSjx",
        "colab_type": "code",
        "colab": {
          "base_uri": "https://localhost:8080/",
          "height": 1000
        },
        "outputId": "bfbb14b7-c280-4172-a8b3-8985072ad4c7"
      },
      "source": [
        "sfs = SFS(KNN, \n",
        "          k_features=8, \n",
        "          scoring='f1_macro',\n",
        "          cv=5)\n",
        "sfs = sfs.fit(X, y)\n",
        "sfs.get_metric_dict()"
      ],
      "execution_count": null,
      "outputs": [
        {
          "output_type": "execute_result",
          "data": {
            "text/plain": [
              "{1: {'avg_score': 0.6874080467906365,\n",
              "  'ci_bound': 0.19954515972964598,\n",
              "  'cv_scores': array([0.7923541 , 0.37979094, 0.77047502, 0.72692847, 0.7674917 ]),\n",
              "  'feature_idx': (4,),\n",
              "  'feature_names': ('sex_female',),\n",
              "  'std_dev': 0.15525291347458656,\n",
              "  'std_err': 0.07762645673729328},\n",
              " 2: {'avg_score': 0.7799661581776309,\n",
              "  'ci_bound': 0.01929632377554549,\n",
              "  'cv_scores': array([0.7994058 , 0.78189244, 0.78511221, 0.75315573, 0.7802646 ]),\n",
              "  'feature_idx': (2, 4),\n",
              "  'feature_names': ('familysize_scaled', 'sex_female'),\n",
              "  'std_dev': 0.015013195456914362,\n",
              "  'std_err': 0.00750659772845718},\n",
              " 3: {'avg_score': 0.8080934142873565,\n",
              "  'ci_bound': 0.02831480092977454,\n",
              "  'cv_scores': array([0.83245932, 0.80852494, 0.80005477, 0.77118644, 0.82824159]),\n",
              "  'feature_idx': (0, 2, 4),\n",
              "  'feature_names': ('Age_scaled', 'familysize_scaled', 'sex_female'),\n",
              "  'std_dev': 0.02202987707021456,\n",
              "  'std_err': 0.01101493853510728},\n",
              " 4: {'avg_score': 0.8067500426776222,\n",
              "  'ci_bound': 0.02914329761670788,\n",
              "  'cv_scores': array([0.83245932, 0.80852494, 0.79333791, 0.77118644, 0.82824159]),\n",
              "  'feature_idx': (0, 2, 3, 4),\n",
              "  'feature_names': ('Age_scaled', 'familysize_scaled', 'alone', 'sex_female'),\n",
              "  'std_dev': 0.022674475639404182,\n",
              "  'std_err': 0.01133723781970209},\n",
              " 5: {'avg_score': 0.7957230314956472,\n",
              "  'ci_bound': 0.022705243363935132,\n",
              "  'cv_scores': array([0.78165302, 0.79531926, 0.78793688, 0.78389831, 0.82980769]),\n",
              "  'feature_idx': (0, 1, 2, 3, 4),\n",
              "  'feature_names': ('Age_scaled',\n",
              "   'Fare_scaled',\n",
              "   'familysize_scaled',\n",
              "   'alone',\n",
              "   'sex_female'),\n",
              "  'std_dev': 0.01766545070888403,\n",
              "  'std_err': 0.008832725354442015},\n",
              " 6: {'avg_score': 0.7904781093160163,\n",
              "  'ci_bound': 0.027990257736807016,\n",
              "  'cv_scores': array([0.77191342, 0.77354468, 0.77436693, 0.80766445, 0.82490107]),\n",
              "  'feature_idx': (0, 1, 2, 3, 4, 7),\n",
              "  'feature_names': ('Age_scaled',\n",
              "   'Fare_scaled',\n",
              "   'familysize_scaled',\n",
              "   'alone',\n",
              "   'sex_female',\n",
              "   'pclass_3'),\n",
              "  'std_dev': 0.021777371440286887,\n",
              "  'std_err': 0.010888685720143442},\n",
              " 7: {'avg_score': 0.7827111686277197,\n",
              "  'ci_bound': 0.041322200068349225,\n",
              "  'cv_scores': array([0.72974465, 0.77354468, 0.78385346, 0.82765336, 0.79875969]),\n",
              "  'feature_idx': (0, 1, 2, 3, 4, 6, 7),\n",
              "  'feature_names': ('Age_scaled',\n",
              "   'Fare_scaled',\n",
              "   'familysize_scaled',\n",
              "   'alone',\n",
              "   'sex_female',\n",
              "   'pclass_2',\n",
              "   'pclass_3'),\n",
              "  'std_dev': 0.03215007550412588,\n",
              "  'std_err': 0.01607503775206294},\n",
              " 8: {'avg_score': 0.7827111686277197,\n",
              "  'ci_bound': 0.041322200068349225,\n",
              "  'cv_scores': array([0.72974465, 0.77354468, 0.78385346, 0.82765336, 0.79875969]),\n",
              "  'feature_idx': (0, 1, 2, 3, 4, 5, 6, 7),\n",
              "  'feature_names': ('Age_scaled',\n",
              "   'Fare_scaled',\n",
              "   'familysize_scaled',\n",
              "   'alone',\n",
              "   'sex_female',\n",
              "   'pclass_1',\n",
              "   'pclass_2',\n",
              "   'pclass_3'),\n",
              "  'std_dev': 0.03215007550412588,\n",
              "  'std_err': 0.01607503775206294}}"
            ]
          },
          "metadata": {
            "tags": []
          },
          "execution_count": 14
        }
      ]
    },
    {
      "cell_type": "markdown",
      "metadata": {
        "id": "-38uebTRnTWX",
        "colab_type": "text"
      },
      "source": [
        "```\n",
        "fig = plot_sfs(sfs.get_metric_dict(), kind='std_err')\n",
        "plt.title('Sequential Forward Selection (w. StdErr)')\n",
        "plt.grid()\n",
        "plt.show()\n",
        "```"
      ]
    },
    {
      "cell_type": "code",
      "metadata": {
        "id": "-9_AXZhOlCJH",
        "colab_type": "code",
        "colab": {
          "base_uri": "https://localhost:8080/",
          "height": 295
        },
        "outputId": "781c7f7a-9a58-4560-98b5-7bc1e280defd"
      },
      "source": [
        "fig = plot_sfs(sfs.get_metric_dict(), kind='std_err')\n",
        "plt.title('Sequential Forward Selection (w. StdErr)')\n",
        "plt.grid()\n",
        "plt.show()"
      ],
      "execution_count": null,
      "outputs": [
        {
          "output_type": "display_data",
          "data": {
            "image/png": "[encoded data removed]",
            "text/plain": [
              "<Figure size 432x288 with 1 Axes>"
            ]
          },
          "metadata": {
            "tags": [],
            "needs_background": "light"
          }
        }
      ]
    },
    {
      "cell_type": "markdown",
      "metadata": {
        "id": "bwza0VA17_RC",
        "colab_type": "text"
      },
      "source": [
        "```\n",
        "X = df_titanic[['Age_scaled', 'familysize_scaled', 'sex_female']]\n",
        "y = df_titanic['Survived']\n",
        "\n",
        "print(np.mean(cross_val_score(KNN, X, y, cv=5, scoring = 'f1_macro')))\n",
        "```"
      ]
    },
    {
      "cell_type": "code",
      "metadata": {
        "id": "4MF1Zdcj1PPE",
        "colab_type": "code",
        "colab": {
          "base_uri": "https://localhost:8080/",
          "height": 34
        },
        "outputId": "cbb37b9a-d004-4666-fb92-d43947b3a438"
      },
      "source": [
        "X = df_titanic[['Age_scaled', 'familysize_scaled', 'sex_female']]\n",
        "y = df_titanic['Survived']\n",
        " \n",
        "print(np.mean(cross_val_score(KNN, X, y, cv=5, scoring = 'f1_macro')))"
      ],
      "execution_count": null,
      "outputs": [
        {
          "output_type": "stream",
          "text": [
            "0.8080934142873565\n"
          ],
          "name": "stdout"
        }
      ]
    },
    {
      "cell_type": "markdown",
      "metadata": {
        "id": "cSBpE_7Z86gY",
        "colab_type": "text"
      },
      "source": [
        "### Bagging"
      ]
    },
    {
      "cell_type": "markdown",
      "metadata": {
        "id": "G9GXCJIO8BmZ",
        "colab_type": "text"
      },
      "source": [
        "```\n",
        "from sklearn.ensemble import BaggingClassifier\n",
        "\n",
        "baggedKNN = BaggingClassifier(base_estimator=KNN)\n",
        "print(np.mean(cross_val_score(baggedKNN, X, y, cv=5, scoring = 'f1_macro')))\n",
        "```"
      ]
    },
    {
      "cell_type": "code",
      "metadata": {
        "id": "UuQl5LHK24t_",
        "colab_type": "code",
        "colab": {
          "base_uri": "https://localhost:8080/",
          "height": 34
        },
        "outputId": "607084cf-f8f4-462c-9465-dc420293682d"
      },
      "source": [
        "from sklearn.ensemble import BaggingClassifier\n",
        " \n",
        "baggedKNN = BaggingClassifier(base_estimator=KNN)\n",
        "print(np.mean(cross_val_score(baggedKNN, X, y, cv=5, scoring = 'f1_macro')))"
      ],
      "execution_count": null,
      "outputs": [
        {
          "output_type": "stream",
          "text": [
            "0.7976706420661561\n"
          ],
          "name": "stdout"
        }
      ]
    },
    {
      "cell_type": "markdown",
      "metadata": {
        "id": "ib0Et41f8IdP",
        "colab_type": "text"
      },
      "source": [
        "```\n",
        "from sklearn.tree import DecisionTreeClassifier\n",
        "\n",
        "DT = DecisionTreeClassifier()\n",
        "print(np.mean(cross_val_score(DT, X, y, cv=5, scoring = 'f1_macro')))\n",
        "```"
      ]
    },
    {
      "cell_type": "code",
      "metadata": {
        "id": "4yXXjBlW1cUp",
        "colab_type": "code",
        "colab": {
          "base_uri": "https://localhost:8080/",
          "height": 34
        },
        "outputId": "c6518b9b-a5ae-4e04-9de4-f74928e6d256"
      },
      "source": [
        "from sklearn.tree import DecisionTreeClassifier\n",
        " \n",
        "DT = DecisionTreeClassifier()\n",
        "print(np.mean(cross_val_score(DT, X, y, cv=5, scoring = 'f1_macro')))"
      ],
      "execution_count": null,
      "outputs": [
        {
          "output_type": "stream",
          "text": [
            "0.7412609688241767\n"
          ],
          "name": "stdout"
        }
      ]
    },
    {
      "cell_type": "markdown",
      "metadata": {
        "id": "Fggk_t9l8L6J",
        "colab_type": "text"
      },
      "source": [
        "```\n",
        "from sklearn.ensemble import RandomForestClassifier\n",
        "\n",
        "RF = RandomForestClassifier(max_depth=5)\n",
        "print(np.mean(cross_val_score(RF, X, y, cv=5, scoring = 'f1_macro')))\n",
        "```"
      ]
    },
    {
      "cell_type": "code",
      "metadata": {
        "id": "8DgPOBYY2Tu7",
        "colab_type": "code",
        "colab": {
          "base_uri": "https://localhost:8080/",
          "height": 34
        },
        "outputId": "41c2656a-bec8-4e5a-f5b5-9e12801eccee"
      },
      "source": [
        "from sklearn.ensemble import RandomForestClassifier\n",
        " \n",
        "RF = RandomForestClassifier(max_depth=5)#max_depth is a hyperparameter\n",
        "print(np.mean(cross_val_score(RF, X, y, cv=5, scoring = 'f1_macro')))"
      ],
      "execution_count": null,
      "outputs": [
        {
          "output_type": "stream",
          "text": [
            "0.8112839703498154\n"
          ],
          "name": "stdout"
        }
      ]
    },
    {
      "cell_type": "markdown",
      "metadata": {
        "id": "9r9v3r3z8-oh",
        "colab_type": "text"
      },
      "source": [
        "### Boosting"
      ]
    },
    {
      "cell_type": "markdown",
      "metadata": {
        "id": "JzfCCH3v8Q-b",
        "colab_type": "text"
      },
      "source": [
        "```\n",
        "from sklearn.ensemble import AdaBoostClassifier, GradientBoostingClassifier\n",
        "\n",
        "AB = AdaBoostClassifier()\n",
        "GB = GradientBoostingClassifier()\n",
        "print(np.mean(cross_val_score(AB, X, y, cv=5, scoring = 'f1_macro')))\n",
        "print(np.mean(cross_val_score(GB, X, y, cv=5, scoring = 'f1_macro')))\n",
        "```"
      ]
    },
    {
      "cell_type": "code",
      "metadata": {
        "id": "YhJ0amjt77fA",
        "colab_type": "code",
        "colab": {
          "base_uri": "https://localhost:8080/",
          "height": 50
        },
        "outputId": "5a75fa26-5de1-472a-b59e-6c096a7dbd4b"
      },
      "source": [
        "from sklearn.ensemble import AdaBoostClassifier, GradientBoostingClassifier\n",
        " \n",
        "AB = AdaBoostClassifier()\n",
        "GB = GradientBoostingClassifier()\n",
        "print(np.mean(cross_val_score(AB, X, y, cv=5, scoring = 'f1_macro')))\n",
        "print(np.mean(cross_val_score(GB, X, y, cv=5, scoring = 'f1_macro')))"
      ],
      "execution_count": null,
      "outputs": [
        {
          "output_type": "stream",
          "text": [
            "0.8005685284448809\n",
            "0.8049834802292486\n"
          ],
          "name": "stdout"
        }
      ]
    },
    {
      "cell_type": "markdown",
      "metadata": {
        "id": "CBcnoqz482J7",
        "colab_type": "text"
      },
      "source": [
        "### Hyper Parameter Tuning"
      ]
    },
    {
      "cell_type": "markdown",
      "metadata": {
        "id": "HThtekf88U9T",
        "colab_type": "text"
      },
      "source": [
        "```\n",
        "for n in range(1,10):\n",
        "  print(n)\n",
        "  RF = RandomForestClassifier(max_depth=n)\n",
        "  print(np.mean(cross_val_score(RF, X, y, cv=5, scoring = 'f1_macro')))\n",
        "```"
      ]
    },
    {
      "cell_type": "code",
      "metadata": {
        "id": "68uQZpeR2jig",
        "colab_type": "code",
        "colab": {
          "base_uri": "https://localhost:8080/",
          "height": 319
        },
        "outputId": "66562918-7bc8-4bd7-b20d-f6796124acc6"
      },
      "source": [
        "for n in range(1,10):\n",
        "  print(n)\n",
        "  RF = RandomForestClassifier(max_depth=n)\n",
        "  print(np.mean(cross_val_score(RF, X, y, cv=5, scoring = 'f1_macro')))"
      ],
      "execution_count": null,
      "outputs": [
        {
          "output_type": "stream",
          "text": [
            "1\n",
            "0.6677637618839061\n",
            "2\n",
            "0.7933773959234868\n",
            "3\n",
            "0.8019344074953164\n",
            "4\n",
            "0.8060785963278476\n",
            "5\n",
            "0.8074148942805659\n",
            "6\n",
            "0.8033899283030618\n",
            "7\n",
            "0.7973422221353846\n",
            "8\n",
            "0.8038775275612358\n",
            "9\n",
            "0.7892871103276949\n"
          ],
          "name": "stdout"
        }
      ]
    },
    {
      "cell_type": "code",
      "metadata": {
        "id": "leNJcZub4PMZ",
        "colab_type": "code",
        "colab": {}
      },
      "source": [
        "#gridsearchcv lets you check a bunch of combinations of hyperparameters"
      ],
      "execution_count": null,
      "outputs": []
    },
    {
      "cell_type": "markdown",
      "metadata": {
        "id": "JdZ_jIlJ_s6C",
        "colab_type": "text"
      },
      "source": [
        "### Challenge\n",
        "\n",
        "- Using your Boston Housing Dataset, see if you can improve your best model for predicting median home values using boosting.\n",
        "- Research and apply a Random Forest Regressor model (a bagging method) to predict median home values. Does it improve your model?\n",
        "- In both cases, spend some time tuning the hyperparameters to see if you can improve performance. "
      ]
    }
  ]
}