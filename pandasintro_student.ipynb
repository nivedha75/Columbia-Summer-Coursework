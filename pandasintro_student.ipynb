{
  "nbformat": 4,
  "nbformat_minor": 0,
  "metadata": {
    "colab": {
      "name": "pandasintro_student.ipynb",
      "provenance": [],
      "include_colab_link": true
    },
    "kernelspec": {
      "name": "python3",
      "display_name": "Python 3"
    }
  },
  "cells": [
    {
      "cell_type": "markdown",
      "metadata": {
        "id": "view-in-github",
        "colab_type": "text"
      },
      "source": [
        "<a href=\"https://colab.research.google.com/github/nivedha75/Columbia-Summer-Coursework/blob/master/pandasintro_student.ipynb\" target=\"_parent\"><img src=\"https://colab.research.google.com/assets/colab-badge.svg\" alt=\"Open In Colab\"/></a>"
      ]
    },
    {
      "cell_type": "markdown",
      "metadata": {
        "id": "2Mcff3R67NWE",
        "colab_type": "text"
      },
      "source": [
        "**Pandas**\n",
        "\n",
        "*   a high-level data manipulation tool\n",
        "*   create and analyze dataframes and data series\n",
        "*   [User Guide](https://pandas.pydata.org/docs/user_guide/index.html)\n",
        "\n",
        "\n",
        "\n"
      ]
    },
    {
      "cell_type": "markdown",
      "metadata": {
        "id": "cFzoyKbImm4X",
        "colab_type": "text"
      },
      "source": [
        "### Loading Data"
      ]
    },
    {
      "cell_type": "markdown",
      "metadata": {
        "id": "cebWk75bA28U",
        "colab_type": "text"
      },
      "source": [
        "\n",
        "\n",
        "```\n",
        "import pandas\n",
        "import pandas as pd\n",
        "```\n",
        "\n"
      ]
    },
    {
      "cell_type": "code",
      "metadata": {
        "id": "vkuotjRDm6Rm",
        "colab_type": "code",
        "colab": {}
      },
      "source": [
        ""
      ],
      "execution_count": null,
      "outputs": []
    },
    {
      "cell_type": "markdown",
      "metadata": {
        "id": "p2j8NBJ-gsXd",
        "colab_type": "text"
      },
      "source": [
        "```\n",
        "from google.colab import drive\n",
        "drive.mount('/content/gdrive')\n",
        "```"
      ]
    },
    {
      "cell_type": "code",
      "metadata": {
        "id": "jY0TAeNogvTR",
        "colab_type": "code",
        "colab": {}
      },
      "source": [
        ""
      ],
      "execution_count": null,
      "outputs": []
    },
    {
      "cell_type": "markdown",
      "metadata": {
        "id": "keYi_bDeA6Cb",
        "colab_type": "text"
      },
      "source": [
        "```\n",
        "df = pd.read_csv('/content/gdrive/My Drive/titanic.csv')\n",
        "```"
      ]
    },
    {
      "cell_type": "code",
      "metadata": {
        "id": "36XqdiA3BHAC",
        "colab_type": "code",
        "colab": {}
      },
      "source": [
        ""
      ],
      "execution_count": null,
      "outputs": []
    },
    {
      "cell_type": "markdown",
      "metadata": {
        "id": "3__9CMyom7eA",
        "colab_type": "text"
      },
      "source": [
        "### Viewing the dataframe"
      ]
    },
    {
      "cell_type": "markdown",
      "metadata": {
        "id": "FaQWvzAjAnFC",
        "colab_type": "text"
      },
      "source": [
        "```\n",
        "df.head(10)\n",
        "df.tail(5)\n",
        "df\n",
        "```"
      ]
    },
    {
      "cell_type": "code",
      "metadata": {
        "id": "t-ynpK_-9cAu",
        "colab_type": "code",
        "colab": {}
      },
      "source": [
        ""
      ],
      "execution_count": null,
      "outputs": []
    },
    {
      "cell_type": "markdown",
      "metadata": {
        "id": "4asqPdEq9sTd",
        "colab_type": "text"
      },
      "source": [
        "### Dataframe Methods\n",
        "\n",
        "\n",
        "\n",
        "```\n",
        "df.describe()\n",
        "df.shape\n",
        "df.dtypes\n",
        "df.index\n",
        "df.columns\n",
        "df[['Name','Survived']]\n",
        "```\n",
        "\n"
      ]
    },
    {
      "cell_type": "code",
      "metadata": {
        "id": "5cvEAwVNndyJ",
        "colab_type": "code",
        "colab": {}
      },
      "source": [
        ""
      ],
      "execution_count": null,
      "outputs": []
    },
    {
      "cell_type": "markdown",
      "metadata": {
        "id": "UhNv_7jpnZEU",
        "colab_type": "text"
      },
      "source": [
        "### Series Methods\n",
        "\n",
        "```\n",
        "df['Name']\n",
        "df.Name\n",
        "df.Survived.value_counts()\n",
        "df.Age.mean()\n",
        "```"
      ]
    },
    {
      "cell_type": "code",
      "metadata": {
        "id": "o4G-QQMUoGb8",
        "colab_type": "code",
        "colab": {}
      },
      "source": [
        ""
      ],
      "execution_count": null,
      "outputs": []
    },
    {
      "cell_type": "markdown",
      "metadata": {
        "id": "b-MtVQ6KoHA2",
        "colab_type": "text"
      },
      "source": [
        "### Extracting Rows"
      ]
    },
    {
      "cell_type": "markdown",
      "metadata": {
        "id": "Yj-_6673tol0",
        "colab_type": "text"
      },
      "source": [
        "Using index values:\n",
        "```\n",
        "df.loc[0:5]\n",
        "```"
      ]
    },
    {
      "cell_type": "code",
      "metadata": {
        "id": "_dQ40ozetpYn",
        "colab_type": "code",
        "colab": {}
      },
      "source": [
        ""
      ],
      "execution_count": null,
      "outputs": []
    },
    {
      "cell_type": "markdown",
      "metadata": {
        "id": "ffEr_lOEtvDB",
        "colab_type": "text"
      },
      "source": [
        "Using the order of observations:\n",
        "```\n",
        "df.iloc[0:5]\n",
        "```"
      ]
    },
    {
      "cell_type": "code",
      "metadata": {
        "id": "LyI24LbetwmN",
        "colab_type": "code",
        "colab": {}
      },
      "source": [
        ""
      ],
      "execution_count": null,
      "outputs": []
    },
    {
      "cell_type": "markdown",
      "metadata": {
        "id": "TP7HIOlT-go6",
        "colab_type": "text"
      },
      "source": [
        "```\n",
        "df.loc[df.Age > 25]\n",
        "```"
      ]
    },
    {
      "cell_type": "code",
      "metadata": {
        "id": "YORoO76z-HLC",
        "colab_type": "code",
        "colab": {}
      },
      "source": [
        ""
      ],
      "execution_count": null,
      "outputs": []
    },
    {
      "cell_type": "markdown",
      "metadata": {
        "id": "pILzdM-7-_zO",
        "colab_type": "text"
      },
      "source": [
        "```\n",
        "df.loc[df.Age > 25]['Name']\n",
        "```"
      ]
    },
    {
      "cell_type": "code",
      "metadata": {
        "id": "sB9JANSc_Ahd",
        "colab_type": "code",
        "colab": {}
      },
      "source": [
        ""
      ],
      "execution_count": null,
      "outputs": []
    },
    {
      "cell_type": "markdown",
      "metadata": {
        "id": "BXBNIHNjgklV",
        "colab_type": "text"
      },
      "source": [
        "```\n",
        "df.loc[df['Name'].isnull()]\n",
        "```"
      ]
    },
    {
      "cell_type": "code",
      "metadata": {
        "id": "daoxAKpit1GT",
        "colab_type": "code",
        "colab": {}
      },
      "source": [
        ""
      ],
      "execution_count": null,
      "outputs": []
    },
    {
      "cell_type": "markdown",
      "metadata": {
        "id": "L7q6iW0pt1Pd",
        "colab_type": "text"
      },
      "source": [
        "```\n",
        "df.loc[~df['Name'].isnull()]\n",
        "```"
      ]
    },
    {
      "cell_type": "code",
      "metadata": {
        "id": "GOYN0og8ucTI",
        "colab_type": "code",
        "colab": {}
      },
      "source": [
        ""
      ],
      "execution_count": null,
      "outputs": []
    },
    {
      "cell_type": "markdown",
      "metadata": {
        "id": "gDMVLNa-ucak",
        "colab_type": "text"
      },
      "source": [
        "\n",
        "\n",
        "```\n",
        "df.loc[(df.Age > 25) | (df.Age < 45)]\n",
        "```\n"
      ]
    },
    {
      "cell_type": "code",
      "metadata": {
        "id": "WCxtT0-hueAF",
        "colab_type": "code",
        "colab": {}
      },
      "source": [
        ""
      ],
      "execution_count": null,
      "outputs": []
    },
    {
      "cell_type": "markdown",
      "metadata": {
        "id": "F3oo9uLz-xJp",
        "colab_type": "text"
      },
      "source": [
        "Give the names of all the titanic disaster survivors."
      ]
    },
    {
      "cell_type": "code",
      "metadata": {
        "id": "yNxgi5tF-srb",
        "colab_type": "code",
        "colab": {}
      },
      "source": [
        ""
      ],
      "execution_count": null,
      "outputs": []
    },
    {
      "cell_type": "markdown",
      "metadata": {
        "id": "u0AmkQX9-8qb",
        "colab_type": "text"
      },
      "source": [
        "Give the mean ages of those who did not survive the disaster. Do the same for those who survived."
      ]
    },
    {
      "cell_type": "code",
      "metadata": {
        "id": "fac_8MZ7AT30",
        "colab_type": "code",
        "colab": {}
      },
      "source": [
        ""
      ],
      "execution_count": null,
      "outputs": []
    },
    {
      "cell_type": "markdown",
      "metadata": {
        "id": "NJZwI1Ekt66_",
        "colab_type": "text"
      },
      "source": [
        "Setting a new dataframe to include only filtered observations:\n",
        "\n",
        "\n",
        "\n",
        "```\n",
        "df = df.loc[df.Age > 25]\n",
        "```\n",
        "\n",
        "\n",
        "\n"
      ]
    },
    {
      "cell_type": "markdown",
      "metadata": {
        "id": "_dQwC7kZoevR",
        "colab_type": "text"
      },
      "source": [
        "### Choosing Columns Using List Comprehension\n",
        "\n",
        "\n",
        "```\n",
        "allcols = list(df)\n",
        "df[allcols]\n",
        "[x for x in allcols if x!= 'Age']\n",
        "[x for x in allcols if x not in ['Age','Fare']]\n",
        "df[[x for x in allcols if x!= 'Age']]\n",
        "```\n",
        "\n"
      ]
    },
    {
      "cell_type": "markdown",
      "metadata": {
        "id": "UV6Xika4vByV",
        "colab_type": "text"
      },
      "source": [
        "### Operations on Pandas series\n",
        "\n",
        "```\n",
        "df['Age']/2\n",
        "```"
      ]
    },
    {
      "cell_type": "code",
      "metadata": {
        "id": "bIGBi4XupVUx",
        "colab_type": "code",
        "colab": {}
      },
      "source": [
        ""
      ],
      "execution_count": null,
      "outputs": []
    },
    {
      "cell_type": "markdown",
      "metadata": {
        "id": "Xr3nx8wOvSAm",
        "colab_type": "text"
      },
      "source": [
        "```\n",
        "df['newage'] = df['Age']/2\n",
        "```"
      ]
    },
    {
      "cell_type": "code",
      "metadata": {
        "id": "_xeCRQz0ve40",
        "colab_type": "code",
        "colab": {}
      },
      "source": [
        ""
      ],
      "execution_count": null,
      "outputs": []
    },
    {
      "cell_type": "markdown",
      "metadata": {
        "id": "-j9bDxAwvftF",
        "colab_type": "text"
      },
      "source": [
        "\n",
        "\n",
        "```\n",
        "df['familysize'] = df['Siblings/Spouses Aboard'] + df['Parents/Children Aboard']\n",
        "```\n",
        "\n"
      ]
    },
    {
      "cell_type": "markdown",
      "metadata": {
        "id": "YYv8yEA_pme6",
        "colab_type": "text"
      },
      "source": [
        "### Simple plots"
      ]
    },
    {
      "cell_type": "markdown",
      "metadata": {
        "id": "fobAWda8AcRT",
        "colab_type": "text"
      },
      "source": [
        "```\n",
        "df.plot(kind= 'scatter', x = 'Age', y = 'Fare')\n",
        "```"
      ]
    },
    {
      "cell_type": "code",
      "metadata": {
        "id": "FIRGy5H_Zc5i",
        "colab_type": "code",
        "colab": {}
      },
      "source": [
        ""
      ],
      "execution_count": null,
      "outputs": []
    },
    {
      "cell_type": "markdown",
      "metadata": {
        "id": "J29IzSbKZe2J",
        "colab_type": "text"
      },
      "source": [
        "```\n",
        "df['Age'].hist()\n",
        "```"
      ]
    },
    {
      "cell_type": "code",
      "metadata": {
        "id": "NTQEajO7bpvK",
        "colab_type": "code",
        "colab": {}
      },
      "source": [
        ""
      ],
      "execution_count": null,
      "outputs": []
    },
    {
      "cell_type": "markdown",
      "metadata": {
        "id": "vwHXBnVnhaP-",
        "colab_type": "text"
      },
      "source": [
        "```\n",
        "df.boxplot(column=['Age'])\n",
        "```"
      ]
    },
    {
      "cell_type": "code",
      "metadata": {
        "id": "pZkBGJbBhSp4",
        "colab_type": "code",
        "colab": {}
      },
      "source": [
        ""
      ],
      "execution_count": null,
      "outputs": []
    },
    {
      "cell_type": "markdown",
      "metadata": {
        "id": "cOEyIMfAwB7e",
        "colab_type": "text"
      },
      "source": [
        "### Explore\n",
        "\n",
        "Explore other useful Pandas functions\n",
        "\n",
        "\n",
        "\n",
        "*   [Join](https://pandas.pydata.org/pandas-docs/stable/reference/api/pandas.DataFrame.join.html)\n",
        "*   [Merge](https://pandas.pydata.org/pandas-docs/stable/reference/api/pandas.DataFrame.merge.html)\n",
        "*   [Append](https://pandas.pydata.org/pandas-docs/stable/reference/api/pandas.DataFrame.append.html)\n",
        "*   [GroupBy](https://pandas.pydata.org/pandas-docs/stable/reference/api/pandas.DataFrame.groupby.html)\n"
      ]
    },
    {
      "cell_type": "markdown",
      "metadata": {
        "id": "yiAvXHd-vwgO",
        "colab_type": "text"
      },
      "source": [
        "### Challenge\n",
        "\n",
        "The Boston Housing Dataset originates from the UCI Machine Learning Repository. The Boston housing data was collected in 1978 and each of the 506 entries represent aggregated data about 14 features for homes from various suburbs in Boston, Massachusetts.\n",
        "\n",
        "[Data Dictionary](http://math.furman.edu/~dcs/courses/math47/R/library/mlbench/html/BostonHousing.html)\n",
        "\n",
        "Find the dataset on the Syllabus Page on Canvas. \n",
        "\n",
        "\n",
        "\n",
        "*   Load the Boston Dataset\n",
        "*   Check the size of the dataset\n",
        "*   Create a simple plot comparing the crime rate and pupil-teacher ratio.\n",
        "*   Create two new dataframes, one with all observations where the crime rate is greater than 1 and one with all observations where the crime rate is less than 1. \n",
        "*   Compare the average pupil-teacher ratio for the two groups.\n",
        "\n",
        "\n",
        "\n"
      ]
    }
  ]
}