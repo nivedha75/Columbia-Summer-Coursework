{
  "nbformat": 4,
  "nbformat_minor": 0,
  "metadata": {
    "colab": {
      "name": "Copy of ModelEvaluation_student.ipynb",
      "provenance": [],
      "collapsed_sections": [
        "mfPupYLRQFc5",
        "7tcsGI2XQMxC"
      ],
      "include_colab_link": true
    },
    "kernelspec": {
      "name": "python3",
      "display_name": "Python 3"
    }
  },
  "cells": [
    {
      "cell_type": "markdown",
      "metadata": {
        "id": "view-in-github",
        "colab_type": "text"
      },
      "source": [
        "<a href=\"https://colab.research.google.com/github/nivedha75/Columbia-Summer-Coursework/blob/master/Copy_of_ModelEvaluation_student.ipynb\" target=\"_parent\"><img src=\"https://colab.research.google.com/assets/colab-badge.svg\" alt=\"Open In Colab\"/></a>"
      ]
    },
    {
      "cell_type": "markdown",
      "metadata": {
        "id": "NTKNFhrIzglB",
        "colab_type": "text"
      },
      "source": [
        "# Let's try it in Python.\n",
        "\n",
        "\n"
      ]
    },
    {
      "cell_type": "markdown",
      "metadata": {
        "id": "mfPupYLRQFc5",
        "colab_type": "text"
      },
      "source": [
        "## 1. Load our data"
      ]
    },
    {
      "cell_type": "code",
      "metadata": {
        "id": "F5lYmW8CzkQ2",
        "colab_type": "code",
        "colab": {
          "base_uri": "https://localhost:8080/",
          "height": 34
        },
        "outputId": "474dab30-c72f-40e2-96de-9fcae0ccb52a"
      },
      "source": [
        "import pandas as pd\n",
        "\n",
        "from google.colab import drive\n",
        "drive.mount('/content/gdrive')\n",
        "\n",
        "df_iris = pd.read_csv('/content/gdrive/My Drive/iris.csv')\n",
        "df_titanic = pd.read_csv('/content/gdrive/My Drive/titanic (1).csv')"
      ],
      "execution_count": null,
      "outputs": [
        {
          "output_type": "stream",
          "text": [
            "Drive already mounted at /content/gdrive; to attempt to forcibly remount, call drive.mount(\"/content/gdrive\", force_remount=True).\n"
          ],
          "name": "stdout"
        }
      ]
    },
    {
      "cell_type": "markdown",
      "metadata": {
        "id": "7tcsGI2XQMxC",
        "colab_type": "text"
      },
      "source": [
        "## 2. Some Quick EDA\n",
        "\n",
        "```\n",
        "df_iris.head()\n",
        "```"
      ]
    },
    {
      "cell_type": "code",
      "metadata": {
        "id": "6EiKtMejbBOV",
        "colab_type": "code",
        "colab": {
          "base_uri": "https://localhost:8080/",
          "height": 198
        },
        "outputId": "3376647d-bd62-472c-cee8-825c928b6d50"
      },
      "source": [
        "df_iris.head()"
      ],
      "execution_count": null,
      "outputs": [
        {
          "output_type": "execute_result",
          "data": {
            "text/html": [
              "<div>\n",
              "<style scoped>\n",
              "    .dataframe tbody tr th:only-of-type {\n",
              "        vertical-align: middle;\n",
              "    }\n",
              "\n",
              "    .dataframe tbody tr th {\n",
              "        vertical-align: top;\n",
              "    }\n",
              "\n",
              "    .dataframe thead th {\n",
              "        text-align: right;\n",
              "    }\n",
              "</style>\n",
              "<table border=\"1\" class=\"dataframe\">\n",
              "  <thead>\n",
              "    <tr style=\"text-align: right;\">\n",
              "      <th></th>\n",
              "      <th>Id</th>\n",
              "      <th>SepalLengthCm</th>\n",
              "      <th>SepalWidthCm</th>\n",
              "      <th>PetalLengthCm</th>\n",
              "      <th>PetalWidthCm</th>\n",
              "      <th>Species</th>\n",
              "    </tr>\n",
              "  </thead>\n",
              "  <tbody>\n",
              "    <tr>\n",
              "      <th>0</th>\n",
              "      <td>1</td>\n",
              "      <td>5.1</td>\n",
              "      <td>3.5</td>\n",
              "      <td>1.4</td>\n",
              "      <td>0.2</td>\n",
              "      <td>Iris-setosa</td>\n",
              "    </tr>\n",
              "    <tr>\n",
              "      <th>1</th>\n",
              "      <td>2</td>\n",
              "      <td>4.9</td>\n",
              "      <td>3.0</td>\n",
              "      <td>1.4</td>\n",
              "      <td>0.2</td>\n",
              "      <td>Iris-setosa</td>\n",
              "    </tr>\n",
              "    <tr>\n",
              "      <th>2</th>\n",
              "      <td>3</td>\n",
              "      <td>4.7</td>\n",
              "      <td>3.2</td>\n",
              "      <td>1.3</td>\n",
              "      <td>0.2</td>\n",
              "      <td>Iris-setosa</td>\n",
              "    </tr>\n",
              "    <tr>\n",
              "      <th>3</th>\n",
              "      <td>4</td>\n",
              "      <td>4.6</td>\n",
              "      <td>3.1</td>\n",
              "      <td>1.5</td>\n",
              "      <td>0.2</td>\n",
              "      <td>Iris-setosa</td>\n",
              "    </tr>\n",
              "    <tr>\n",
              "      <th>4</th>\n",
              "      <td>5</td>\n",
              "      <td>5.0</td>\n",
              "      <td>3.6</td>\n",
              "      <td>1.4</td>\n",
              "      <td>0.2</td>\n",
              "      <td>Iris-setosa</td>\n",
              "    </tr>\n",
              "  </tbody>\n",
              "</table>\n",
              "</div>"
            ],
            "text/plain": [
              "   Id  SepalLengthCm  SepalWidthCm  PetalLengthCm  PetalWidthCm      Species\n",
              "0   1            5.1           3.5            1.4           0.2  Iris-setosa\n",
              "1   2            4.9           3.0            1.4           0.2  Iris-setosa\n",
              "2   3            4.7           3.2            1.3           0.2  Iris-setosa\n",
              "3   4            4.6           3.1            1.5           0.2  Iris-setosa\n",
              "4   5            5.0           3.6            1.4           0.2  Iris-setosa"
            ]
          },
          "metadata": {
            "tags": []
          },
          "execution_count": 83
        }
      ]
    },
    {
      "cell_type": "code",
      "metadata": {
        "id": "MobPeQ0vl1m_",
        "colab_type": "code",
        "colab": {
          "base_uri": "https://localhost:8080/",
          "height": 86
        },
        "outputId": "2d0ffd3f-ee32-4089-97e2-404cd740b4e9"
      },
      "source": [
        "df_iris['Species'].value_counts()"
      ],
      "execution_count": null,
      "outputs": [
        {
          "output_type": "execute_result",
          "data": {
            "text/plain": [
              "Iris-versicolor    50\n",
              "Iris-setosa        50\n",
              "Iris-virginica     50\n",
              "Name: Species, dtype: int64"
            ]
          },
          "metadata": {
            "tags": []
          },
          "execution_count": 84
        }
      ]
    },
    {
      "cell_type": "markdown",
      "metadata": {
        "id": "MMEBjVQwbChR",
        "colab_type": "text"
      },
      "source": [
        "```\n",
        "import seaborn as sns\n",
        "sns.boxplot(x='Species', y=\"SepalLengthCm\", data=df_iris)\n",
        "```"
      ]
    },
    {
      "cell_type": "code",
      "metadata": {
        "id": "DUvzxz-ZbIy4",
        "colab_type": "code",
        "colab": {
          "base_uri": "https://localhost:8080/",
          "height": 296
        },
        "outputId": "867eb404-f3c1-4e25-9a33-a2062fc1075b"
      },
      "source": [
        "import seaborn as sns\n",
        "sns.boxplot(x='Species', y=\"SepalLengthCm\", data=df_iris)"
      ],
      "execution_count": null,
      "outputs": [
        {
          "output_type": "execute_result",
          "data": {
            "text/plain": [
              "<matplotlib.axes._subplots.AxesSubplot at 0x7fc4116bf080>"
            ]
          },
          "metadata": {
            "tags": []
          },
          "execution_count": 85
        },
        {
          "output_type": "display_data",
          "data": {
            "image/png": "[encoded data removed]",
            "text/plain": [
              "<Figure size 432x288 with 1 Axes>"
            ]
          },
          "metadata": {
            "tags": [],
            "needs_background": "light"
          }
        }
      ]
    },
    {
      "cell_type": "markdown",
      "metadata": {
        "id": "uiGtwAj0bJPp",
        "colab_type": "text"
      },
      "source": [
        "```\n",
        "sns.boxplot(x='Species', y=\"SepalWidthCm\", data=df_iris)\n",
        "```"
      ]
    },
    {
      "cell_type": "code",
      "metadata": {
        "id": "1HmTl2mlbLmV",
        "colab_type": "code",
        "colab": {
          "base_uri": "https://localhost:8080/",
          "height": 299
        },
        "outputId": "39b8b985-a829-4a38-d36a-0296e8246907"
      },
      "source": [
        "sns.boxplot(x='Species', y=\"SepalWidthCm\", data=df_iris)"
      ],
      "execution_count": null,
      "outputs": [
        {
          "output_type": "execute_result",
          "data": {
            "text/plain": [
              "<matplotlib.axes._subplots.AxesSubplot at 0x7fc411647358>"
            ]
          },
          "metadata": {
            "tags": []
          },
          "execution_count": 86
        },
        {
          "output_type": "display_data",
          "data": {
            "image/png": "[encoded data removed]",
            "text/plain": [
              "<Figure size 432x288 with 1 Axes>"
            ]
          },
          "metadata": {
            "tags": [],
            "needs_background": "light"
          }
        }
      ]
    },
    {
      "cell_type": "markdown",
      "metadata": {
        "id": "wGEjSRo9bWUl",
        "colab_type": "text"
      },
      "source": [
        "```\n",
        "sns.boxplot(x='Species', y=\"PetalLengthCm\", data=df_iris)\n",
        "```"
      ]
    },
    {
      "cell_type": "code",
      "metadata": {
        "id": "noXtWbfwbbK8",
        "colab_type": "code",
        "colab": {
          "base_uri": "https://localhost:8080/",
          "height": 296
        },
        "outputId": "367ce087-09fe-48d6-fd39-b7acddf1431b"
      },
      "source": [
        "sns.boxplot(x='Species', y=\"PetalLengthCm\", data=df_iris)"
      ],
      "execution_count": null,
      "outputs": [
        {
          "output_type": "execute_result",
          "data": {
            "text/plain": [
              "<matplotlib.axes._subplots.AxesSubplot at 0x7fc411647748>"
            ]
          },
          "metadata": {
            "tags": []
          },
          "execution_count": 87
        },
        {
          "output_type": "display_data",
          "data": {
            "image/png": "[encoded data removed]",
            "text/plain": [
              "<Figure size 432x288 with 1 Axes>"
            ]
          },
          "metadata": {
            "tags": [],
            "needs_background": "light"
          }
        }
      ]
    },
    {
      "cell_type": "markdown",
      "metadata": {
        "id": "z-QFo9cmbbnx",
        "colab_type": "text"
      },
      "source": [
        "```\n",
        "sns.boxplot(x='Species', y=\"PetalWidthCm\", data=df_iris)\n",
        "```"
      ]
    },
    {
      "cell_type": "code",
      "metadata": {
        "id": "6Sva0QeVmUXv",
        "colab_type": "code",
        "colab": {
          "base_uri": "https://localhost:8080/",
          "height": 296
        },
        "outputId": "189fe99f-3b01-46f2-efa6-e77892f206e0"
      },
      "source": [
        "sns.boxplot(x='Species', y=\"PetalWidthCm\", data=df_iris)\n"
      ],
      "execution_count": null,
      "outputs": [
        {
          "output_type": "execute_result",
          "data": {
            "text/plain": [
              "<matplotlib.axes._subplots.AxesSubplot at 0x7fc41154c9b0>"
            ]
          },
          "metadata": {
            "tags": []
          },
          "execution_count": 88
        },
        {
          "output_type": "display_data",
          "data": {
            "image/png": "[encoded data removed]",
            "text/plain": [
              "<Figure size 432x288 with 1 Axes>"
            ]
          },
          "metadata": {
            "tags": [],
            "needs_background": "light"
          }
        }
      ]
    },
    {
      "cell_type": "markdown",
      "metadata": {
        "id": "DX2wtKMqbgAf",
        "colab_type": "text"
      },
      "source": [
        "```\n",
        "df_titanic.head()\n",
        "```"
      ]
    },
    {
      "cell_type": "code",
      "metadata": {
        "id": "SmgoOiZtbklw",
        "colab_type": "code",
        "colab": {
          "base_uri": "https://localhost:8080/",
          "height": 250
        },
        "outputId": "c4cdfa44-cf2e-47da-bfbd-85f2b2c98b59"
      },
      "source": [
        "df_titanic.head()"
      ],
      "execution_count": null,
      "outputs": [
        {
          "output_type": "execute_result",
          "data": {
            "text/html": [
              "<div>\n",
              "<style scoped>\n",
              "    .dataframe tbody tr th:only-of-type {\n",
              "        vertical-align: middle;\n",
              "    }\n",
              "\n",
              "    .dataframe tbody tr th {\n",
              "        vertical-align: top;\n",
              "    }\n",
              "\n",
              "    .dataframe thead th {\n",
              "        text-align: right;\n",
              "    }\n",
              "</style>\n",
              "<table border=\"1\" class=\"dataframe\">\n",
              "  <thead>\n",
              "    <tr style=\"text-align: right;\">\n",
              "      <th></th>\n",
              "      <th>Survived</th>\n",
              "      <th>Pclass</th>\n",
              "      <th>Name</th>\n",
              "      <th>Sex</th>\n",
              "      <th>Age</th>\n",
              "      <th>Siblings/Spouses Aboard</th>\n",
              "      <th>Parents/Children Aboard</th>\n",
              "      <th>Fare</th>\n",
              "    </tr>\n",
              "  </thead>\n",
              "  <tbody>\n",
              "    <tr>\n",
              "      <th>0</th>\n",
              "      <td>0</td>\n",
              "      <td>3</td>\n",
              "      <td>Mr. Owen Harris Braund</td>\n",
              "      <td>male</td>\n",
              "      <td>22.0</td>\n",
              "      <td>1</td>\n",
              "      <td>0</td>\n",
              "      <td>7.2500</td>\n",
              "    </tr>\n",
              "    <tr>\n",
              "      <th>1</th>\n",
              "      <td>1</td>\n",
              "      <td>1</td>\n",
              "      <td>Mrs. John Bradley (Florence Briggs Thayer) Cum...</td>\n",
              "      <td>female</td>\n",
              "      <td>38.0</td>\n",
              "      <td>1</td>\n",
              "      <td>0</td>\n",
              "      <td>71.2833</td>\n",
              "    </tr>\n",
              "    <tr>\n",
              "      <th>2</th>\n",
              "      <td>1</td>\n",
              "      <td>3</td>\n",
              "      <td>Miss. Laina Heikkinen</td>\n",
              "      <td>female</td>\n",
              "      <td>26.0</td>\n",
              "      <td>0</td>\n",
              "      <td>0</td>\n",
              "      <td>7.9250</td>\n",
              "    </tr>\n",
              "    <tr>\n",
              "      <th>3</th>\n",
              "      <td>1</td>\n",
              "      <td>1</td>\n",
              "      <td>Mrs. Jacques Heath (Lily May Peel) Futrelle</td>\n",
              "      <td>female</td>\n",
              "      <td>35.0</td>\n",
              "      <td>1</td>\n",
              "      <td>0</td>\n",
              "      <td>53.1000</td>\n",
              "    </tr>\n",
              "    <tr>\n",
              "      <th>4</th>\n",
              "      <td>0</td>\n",
              "      <td>3</td>\n",
              "      <td>Mr. William Henry Allen</td>\n",
              "      <td>male</td>\n",
              "      <td>35.0</td>\n",
              "      <td>0</td>\n",
              "      <td>0</td>\n",
              "      <td>8.0500</td>\n",
              "    </tr>\n",
              "  </tbody>\n",
              "</table>\n",
              "</div>"
            ],
            "text/plain": [
              "   Survived  Pclass  ... Parents/Children Aboard     Fare\n",
              "0         0       3  ...                       0   7.2500\n",
              "1         1       1  ...                       0  71.2833\n",
              "2         1       3  ...                       0   7.9250\n",
              "3         1       1  ...                       0  53.1000\n",
              "4         0       3  ...                       0   8.0500\n",
              "\n",
              "[5 rows x 8 columns]"
            ]
          },
          "metadata": {
            "tags": []
          },
          "execution_count": 89
        }
      ]
    },
    {
      "cell_type": "markdown",
      "metadata": {
        "id": "aiuQjPAabl7s",
        "colab_type": "text"
      },
      "source": [
        "```\n",
        "sns.boxplot(x='Survived', y=\"Age\", data=df_titanic)\n",
        "```"
      ]
    },
    {
      "cell_type": "code",
      "metadata": {
        "id": "gt6QWFdBbp0c",
        "colab_type": "code",
        "colab": {
          "base_uri": "https://localhost:8080/",
          "height": 296
        },
        "outputId": "58df3937-3bca-40d7-ece6-792412608dce"
      },
      "source": [
        "sns.boxplot(x='Survived', y=\"Age\", data=df_titanic)"
      ],
      "execution_count": null,
      "outputs": [
        {
          "output_type": "execute_result",
          "data": {
            "text/plain": [
              "<matplotlib.axes._subplots.AxesSubplot at 0x7fc41145e1d0>"
            ]
          },
          "metadata": {
            "tags": []
          },
          "execution_count": 90
        },
        {
          "output_type": "display_data",
          "data": {
            "image/png": "[encoded data removed]",
            "text/plain": [
              "<Figure size 432x288 with 1 Axes>"
            ]
          },
          "metadata": {
            "tags": [],
            "needs_background": "light"
          }
        }
      ]
    },
    {
      "cell_type": "markdown",
      "metadata": {
        "id": "kuJBXbXFbqLq",
        "colab_type": "text"
      },
      "source": [
        "```\n",
        "df_titanic['familysize'] = df_titanic['Siblings/Spouses Aboard'] + df_titanic['Parents/Children Aboard'] + 1\n",
        "```"
      ]
    },
    {
      "cell_type": "code",
      "metadata": {
        "id": "5OJ0XfpIbt_b",
        "colab_type": "code",
        "colab": {}
      },
      "source": [
        "df_titanic['familysize'] = df_titanic['Siblings/Spouses Aboard'] + df_titanic['Parents/Children Aboard'] + 1"
      ],
      "execution_count": null,
      "outputs": []
    },
    {
      "cell_type": "markdown",
      "metadata": {
        "id": "6wRwq8sMbvF8",
        "colab_type": "text"
      },
      "source": [
        "```\n",
        "sns.boxplot(x='Survived', y=\"familysize\", data=df_titanic)\n",
        "```\n",
        "\n"
      ]
    },
    {
      "cell_type": "code",
      "metadata": {
        "id": "aONrzSkgby5i",
        "colab_type": "code",
        "colab": {
          "base_uri": "https://localhost:8080/",
          "height": 296
        },
        "outputId": "6de09a87-326d-40c1-f07b-57e07e0f2447"
      },
      "source": [
        "sns.boxplot(x='Survived', y=\"familysize\", data=df_titanic)"
      ],
      "execution_count": null,
      "outputs": [
        {
          "output_type": "execute_result",
          "data": {
            "text/plain": [
              "<matplotlib.axes._subplots.AxesSubplot at 0x7fc4113d37f0>"
            ]
          },
          "metadata": {
            "tags": []
          },
          "execution_count": 92
        },
        {
          "output_type": "display_data",
          "data": {
            "image/png": "[encoded data removed]",
            "text/plain": [
              "<Figure size 432x288 with 1 Axes>"
            ]
          },
          "metadata": {
            "tags": [],
            "needs_background": "light"
          }
        }
      ]
    },
    {
      "cell_type": "markdown",
      "metadata": {
        "id": "SBm_dkrVb2PG",
        "colab_type": "text"
      },
      "source": [
        "```\n",
        "df_titanic['alone'] = 0\n",
        "df_titanic.loc[df_titanic['familysize'] == 1,'alone'] = 1\n",
        "\n",
        "pd.crosstab(df_titanic.Survived, df_titanic.alone).apply(lambda r: r/r.sum(), axis=1)\n",
        "```"
      ]
    },
    {
      "cell_type": "code",
      "metadata": {
        "id": "kfEM9m7Ib6IC",
        "colab_type": "code",
        "colab": {
          "base_uri": "https://localhost:8080/",
          "height": 138
        },
        "outputId": "e7eda867-3c3f-4fbb-9ba0-7d24d1d8d4be"
      },
      "source": [
        "df_titanic['alone'] = 0\n",
        "df_titanic.loc[df_titanic['familysize'] == 1,'alone'] = 1\n",
        " \n",
        "pd.crosstab(df_titanic.Survived, df_titanic.alone).apply(lambda r: r/r.sum(), axis=1)"
      ],
      "execution_count": null,
      "outputs": [
        {
          "output_type": "execute_result",
          "data": {
            "text/html": [
              "<div>\n",
              "<style scoped>\n",
              "    .dataframe tbody tr th:only-of-type {\n",
              "        vertical-align: middle;\n",
              "    }\n",
              "\n",
              "    .dataframe tbody tr th {\n",
              "        vertical-align: top;\n",
              "    }\n",
              "\n",
              "    .dataframe thead th {\n",
              "        text-align: right;\n",
              "    }\n",
              "</style>\n",
              "<table border=\"1\" class=\"dataframe\">\n",
              "  <thead>\n",
              "    <tr style=\"text-align: right;\">\n",
              "      <th>alone</th>\n",
              "      <th>0</th>\n",
              "      <th>1</th>\n",
              "    </tr>\n",
              "    <tr>\n",
              "      <th>Survived</th>\n",
              "      <th></th>\n",
              "      <th></th>\n",
              "    </tr>\n",
              "  </thead>\n",
              "  <tbody>\n",
              "    <tr>\n",
              "      <th>0</th>\n",
              "      <td>0.321101</td>\n",
              "      <td>0.678899</td>\n",
              "    </tr>\n",
              "    <tr>\n",
              "      <th>1</th>\n",
              "      <td>0.523392</td>\n",
              "      <td>0.476608</td>\n",
              "    </tr>\n",
              "  </tbody>\n",
              "</table>\n",
              "</div>"
            ],
            "text/plain": [
              "alone            0         1\n",
              "Survived                    \n",
              "0         0.321101  0.678899\n",
              "1         0.523392  0.476608"
            ]
          },
          "metadata": {
            "tags": []
          },
          "execution_count": 93
        }
      ]
    },
    {
      "cell_type": "markdown",
      "metadata": {
        "id": "c3I7kALWQ-oB",
        "colab_type": "text"
      },
      "source": [
        "## 3. Standardize the data\n",
        "\n",
        "```\n",
        "from sklearn.preprocessing import MinMaxScaler\n",
        "\n",
        "scaler = MinMaxScaler()\n",
        "\n",
        "scaled = scaler.fit_transform(df_iris[['SepalLengthCm',\n",
        " 'SepalWidthCm',\n",
        " 'PetalLengthCm',\n",
        " 'PetalWidthCm']])\n",
        "\n",
        "\n",
        "df_scaled = pd.DataFrame(data=scaled, columns=['SepalLengthCm_scaled',\n",
        " 'SepalWidthCm_scaled',\n",
        " 'PetalLengthCm_scaled',\n",
        " 'PetalWidthCm_scaled'])\n",
        "\n",
        "df_iris = df_iris.join(df_scaled)\n",
        "\n",
        "```"
      ]
    },
    {
      "cell_type": "code",
      "metadata": {
        "id": "z-oXvajZb-k4",
        "colab_type": "code",
        "colab": {
          "base_uri": "https://localhost:8080/",
          "height": 305
        },
        "outputId": "5921d4c5-76ea-40b4-9883-e8a8724aa958"
      },
      "source": [
        "from sklearn.preprocessing import MinMaxScaler\n",
        " \n",
        "scaler = MinMaxScaler()\n",
        " \n",
        "scaled = scaler.fit_transform(df_iris[['SepalLengthCm',\n",
        " 'SepalWidthCm',\n",
        " 'PetalLengthCm',\n",
        " 'PetalWidthCm']])\n",
        " \n",
        " \n",
        "df_scaled = pd.DataFrame(data=scaled, columns=['SepalLengthCm_scaled',\n",
        " 'SepalWidthCm_scaled',\n",
        " 'PetalLengthCm_scaled',\n",
        " 'PetalWidthCm_scaled'])\n",
        " \n",
        "df_iris = df_iris.join(df_scaled)\n",
        "df_iris.head()"
      ],
      "execution_count": null,
      "outputs": [
        {
          "output_type": "execute_result",
          "data": {
            "text/html": [
              "<div>\n",
              "<style scoped>\n",
              "    .dataframe tbody tr th:only-of-type {\n",
              "        vertical-align: middle;\n",
              "    }\n",
              "\n",
              "    .dataframe tbody tr th {\n",
              "        vertical-align: top;\n",
              "    }\n",
              "\n",
              "    .dataframe thead th {\n",
              "        text-align: right;\n",
              "    }\n",
              "</style>\n",
              "<table border=\"1\" class=\"dataframe\">\n",
              "  <thead>\n",
              "    <tr style=\"text-align: right;\">\n",
              "      <th></th>\n",
              "      <th>Id</th>\n",
              "      <th>SepalLengthCm</th>\n",
              "      <th>SepalWidthCm</th>\n",
              "      <th>PetalLengthCm</th>\n",
              "      <th>PetalWidthCm</th>\n",
              "      <th>Species</th>\n",
              "      <th>SepalLengthCm_scaled</th>\n",
              "      <th>SepalWidthCm_scaled</th>\n",
              "      <th>PetalLengthCm_scaled</th>\n",
              "      <th>PetalWidthCm_scaled</th>\n",
              "    </tr>\n",
              "  </thead>\n",
              "  <tbody>\n",
              "    <tr>\n",
              "      <th>0</th>\n",
              "      <td>1</td>\n",
              "      <td>5.1</td>\n",
              "      <td>3.5</td>\n",
              "      <td>1.4</td>\n",
              "      <td>0.2</td>\n",
              "      <td>Iris-setosa</td>\n",
              "      <td>0.222222</td>\n",
              "      <td>0.625000</td>\n",
              "      <td>0.067797</td>\n",
              "      <td>0.041667</td>\n",
              "    </tr>\n",
              "    <tr>\n",
              "      <th>1</th>\n",
              "      <td>2</td>\n",
              "      <td>4.9</td>\n",
              "      <td>3.0</td>\n",
              "      <td>1.4</td>\n",
              "      <td>0.2</td>\n",
              "      <td>Iris-setosa</td>\n",
              "      <td>0.166667</td>\n",
              "      <td>0.416667</td>\n",
              "      <td>0.067797</td>\n",
              "      <td>0.041667</td>\n",
              "    </tr>\n",
              "    <tr>\n",
              "      <th>2</th>\n",
              "      <td>3</td>\n",
              "      <td>4.7</td>\n",
              "      <td>3.2</td>\n",
              "      <td>1.3</td>\n",
              "      <td>0.2</td>\n",
              "      <td>Iris-setosa</td>\n",
              "      <td>0.111111</td>\n",
              "      <td>0.500000</td>\n",
              "      <td>0.050847</td>\n",
              "      <td>0.041667</td>\n",
              "    </tr>\n",
              "    <tr>\n",
              "      <th>3</th>\n",
              "      <td>4</td>\n",
              "      <td>4.6</td>\n",
              "      <td>3.1</td>\n",
              "      <td>1.5</td>\n",
              "      <td>0.2</td>\n",
              "      <td>Iris-setosa</td>\n",
              "      <td>0.083333</td>\n",
              "      <td>0.458333</td>\n",
              "      <td>0.084746</td>\n",
              "      <td>0.041667</td>\n",
              "    </tr>\n",
              "    <tr>\n",
              "      <th>4</th>\n",
              "      <td>5</td>\n",
              "      <td>5.0</td>\n",
              "      <td>3.6</td>\n",
              "      <td>1.4</td>\n",
              "      <td>0.2</td>\n",
              "      <td>Iris-setosa</td>\n",
              "      <td>0.194444</td>\n",
              "      <td>0.666667</td>\n",
              "      <td>0.067797</td>\n",
              "      <td>0.041667</td>\n",
              "    </tr>\n",
              "  </tbody>\n",
              "</table>\n",
              "</div>"
            ],
            "text/plain": [
              "   Id  SepalLengthCm  ...  PetalLengthCm_scaled  PetalWidthCm_scaled\n",
              "0   1            5.1  ...              0.067797             0.041667\n",
              "1   2            4.9  ...              0.067797             0.041667\n",
              "2   3            4.7  ...              0.050847             0.041667\n",
              "3   4            4.6  ...              0.084746             0.041667\n",
              "4   5            5.0  ...              0.067797             0.041667\n",
              "\n",
              "[5 rows x 10 columns]"
            ]
          },
          "metadata": {
            "tags": []
          },
          "execution_count": 94
        }
      ]
    },
    {
      "cell_type": "markdown",
      "metadata": {
        "id": "n0bPQ50bcAWC",
        "colab_type": "text"
      },
      "source": [
        "```\n",
        "from sklearn.preprocessing import StandardScaler\n",
        "\n",
        "scaler = StandardScaler()\n",
        "\n",
        "scaled = scaler.fit_transform(df_titanic[['Fare','Age','familysize']])\n",
        "\n",
        "\n",
        "df_scaled = pd.DataFrame(data=scaled, columns=['Fare_scaled',\n",
        " 'Age_scaled','familysize_scaled'])\n",
        "\n",
        "df_titanic = df_titanic.join(df_scaled)\n",
        "```"
      ]
    },
    {
      "cell_type": "code",
      "metadata": {
        "id": "uuCJipKXRZ-D",
        "colab_type": "code",
        "colab": {
          "base_uri": "https://localhost:8080/",
          "height": 529
        },
        "outputId": "d446efc0-d127-444c-8866-b1942c83c0cf"
      },
      "source": [
        "from sklearn.preprocessing import StandardScaler\n",
        " \n",
        "scaler = StandardScaler()\n",
        " \n",
        "scaled = scaler.fit_transform(df_titanic[['Fare','Age','familysize']])\n",
        " \n",
        " \n",
        "df_scaled = pd.DataFrame(data=scaled, columns=['Fare_scaled',\n",
        " 'Age_scaled','familysize_scaled'])\n",
        " \n",
        "df_titanic = df_titanic.join(df_scaled)\n",
        "df_titanic.head()"
      ],
      "execution_count": null,
      "outputs": [
        {
          "output_type": "execute_result",
          "data": {
            "text/html": [
              "<div>\n",
              "<style scoped>\n",
              "    .dataframe tbody tr th:only-of-type {\n",
              "        vertical-align: middle;\n",
              "    }\n",
              "\n",
              "    .dataframe tbody tr th {\n",
              "        vertical-align: top;\n",
              "    }\n",
              "\n",
              "    .dataframe thead th {\n",
              "        text-align: right;\n",
              "    }\n",
              "</style>\n",
              "<table border=\"1\" class=\"dataframe\">\n",
              "  <thead>\n",
              "    <tr style=\"text-align: right;\">\n",
              "      <th></th>\n",
              "      <th>Survived</th>\n",
              "      <th>Pclass</th>\n",
              "      <th>Name</th>\n",
              "      <th>Sex</th>\n",
              "      <th>Age</th>\n",
              "      <th>Siblings/Spouses Aboard</th>\n",
              "      <th>Parents/Children Aboard</th>\n",
              "      <th>Fare</th>\n",
              "      <th>familysize</th>\n",
              "      <th>alone</th>\n",
              "      <th>Fare_scaled</th>\n",
              "      <th>Age_scaled</th>\n",
              "      <th>familysize_scaled</th>\n",
              "    </tr>\n",
              "  </thead>\n",
              "  <tbody>\n",
              "    <tr>\n",
              "      <th>0</th>\n",
              "      <td>0</td>\n",
              "      <td>3</td>\n",
              "      <td>Mr. Owen Harris Braund</td>\n",
              "      <td>male</td>\n",
              "      <td>22.0</td>\n",
              "      <td>1</td>\n",
              "      <td>0</td>\n",
              "      <td>7.2500</td>\n",
              "      <td>2</td>\n",
              "      <td>0</td>\n",
              "      <td>-0.503586</td>\n",
              "      <td>-0.529366</td>\n",
              "      <td>0.056543</td>\n",
              "    </tr>\n",
              "    <tr>\n",
              "      <th>1</th>\n",
              "      <td>1</td>\n",
              "      <td>1</td>\n",
              "      <td>Mrs. John Bradley (Florence Briggs Thayer) Cum...</td>\n",
              "      <td>female</td>\n",
              "      <td>38.0</td>\n",
              "      <td>1</td>\n",
              "      <td>0</td>\n",
              "      <td>71.2833</td>\n",
              "      <td>2</td>\n",
              "      <td>0</td>\n",
              "      <td>0.783412</td>\n",
              "      <td>0.604265</td>\n",
              "      <td>0.056543</td>\n",
              "    </tr>\n",
              "    <tr>\n",
              "      <th>2</th>\n",
              "      <td>1</td>\n",
              "      <td>3</td>\n",
              "      <td>Miss. Laina Heikkinen</td>\n",
              "      <td>female</td>\n",
              "      <td>26.0</td>\n",
              "      <td>0</td>\n",
              "      <td>0</td>\n",
              "      <td>7.9250</td>\n",
              "      <td>1</td>\n",
              "      <td>1</td>\n",
              "      <td>-0.490020</td>\n",
              "      <td>-0.245958</td>\n",
              "      <td>-0.562638</td>\n",
              "    </tr>\n",
              "    <tr>\n",
              "      <th>3</th>\n",
              "      <td>1</td>\n",
              "      <td>1</td>\n",
              "      <td>Mrs. Jacques Heath (Lily May Peel) Futrelle</td>\n",
              "      <td>female</td>\n",
              "      <td>35.0</td>\n",
              "      <td>1</td>\n",
              "      <td>0</td>\n",
              "      <td>53.1000</td>\n",
              "      <td>2</td>\n",
              "      <td>0</td>\n",
              "      <td>0.417948</td>\n",
              "      <td>0.391709</td>\n",
              "      <td>0.056543</td>\n",
              "    </tr>\n",
              "    <tr>\n",
              "      <th>4</th>\n",
              "      <td>0</td>\n",
              "      <td>3</td>\n",
              "      <td>Mr. William Henry Allen</td>\n",
              "      <td>male</td>\n",
              "      <td>35.0</td>\n",
              "      <td>0</td>\n",
              "      <td>0</td>\n",
              "      <td>8.0500</td>\n",
              "      <td>1</td>\n",
              "      <td>1</td>\n",
              "      <td>-0.487507</td>\n",
              "      <td>0.391709</td>\n",
              "      <td>-0.562638</td>\n",
              "    </tr>\n",
              "  </tbody>\n",
              "</table>\n",
              "</div>"
            ],
            "text/plain": [
              "   Survived  Pclass  ... Age_scaled familysize_scaled\n",
              "0         0       3  ...  -0.529366          0.056543\n",
              "1         1       1  ...   0.604265          0.056543\n",
              "2         1       3  ...  -0.245958         -0.562638\n",
              "3         1       1  ...   0.391709          0.056543\n",
              "4         0       3  ...   0.391709         -0.562638\n",
              "\n",
              "[5 rows x 13 columns]"
            ]
          },
          "metadata": {
            "tags": []
          },
          "execution_count": 95
        }
      ]
    },
    {
      "cell_type": "markdown",
      "metadata": {
        "id": "ucVcW48hQcqv",
        "colab_type": "text"
      },
      "source": [
        "## 4. Run the model - with Cross-Validation\n"
      ]
    },
    {
      "cell_type": "markdown",
      "metadata": {
        "id": "TCGocSQ_l1Sl",
        "colab_type": "text"
      },
      "source": [
        "```\n",
        "from sklearn.utils import shuffle\n",
        "df_iris = shuffle(df_iris)\n",
        "```"
      ]
    },
    {
      "cell_type": "code",
      "metadata": {
        "id": "p8IxtmdKjS5c",
        "colab_type": "code",
        "colab": {}
      },
      "source": [
        "from sklearn.utils import shuffle\n",
        "df_iris = shuffle(df_iris)"
      ],
      "execution_count": null,
      "outputs": []
    },
    {
      "cell_type": "markdown",
      "metadata": {
        "id": "iUM0TJAvl5hs",
        "colab_type": "text"
      },
      "source": [
        "```\n",
        "from sklearn.neighbors import KNeighborsClassifier\n",
        "from sklearn.model_selection import KFold\n",
        "from sklearn.model_selection import cross_val_score\n",
        "\n",
        "KNN = KNeighborsClassifier(n_neighbors=5)\n",
        "\n",
        "X = df_iris[['PetalLengthCm_scaled']]\n",
        "y = df_iris['Species']\n",
        "\n",
        "cv = KFold(n_splits=5, shuffle=False)\n",
        "\n",
        "print(cross_val_score(KNN, X, y, cv=cv, scoring = 'f1_macro'))\n",
        "```"
      ]
    },
    {
      "cell_type": "code",
      "metadata": {
        "id": "dfthCOs6l-HC",
        "colab_type": "code",
        "colab": {
          "base_uri": "https://localhost:8080/",
          "height": 34
        },
        "outputId": "ed6ad7b8-71b7-4fbd-b74b-6c09f626b8ec"
      },
      "source": [
        "from sklearn.neighbors import KNeighborsClassifier\n",
        "from sklearn.model_selection import KFold\n",
        "from sklearn.model_selection import cross_val_score\n",
        " \n",
        "KNN = KNeighborsClassifier(n_neighbors=5)\n",
        " \n",
        "X = df_iris[['PetalLengthCm_scaled']]\n",
        "y = df_iris['Species']\n",
        "\n",
        "cv = KFold(n_splits=5, shuffle=True)\n",
        "\n",
        "print(cross_val_score(KNN, X, y, cv=cv, scoring = 'f1_macro'))"
      ],
      "execution_count": null,
      "outputs": [
        {
          "output_type": "stream",
          "text": [
            "[1.         0.93732194 0.9658994  0.88854489 0.96451914]\n"
          ],
          "name": "stdout"
        }
      ]
    },
    {
      "cell_type": "markdown",
      "metadata": {
        "id": "NxLNQ4HSmAOA",
        "colab_type": "text"
      },
      "source": [
        "```\n",
        "# Stratified k-fold: each iteration tries to maintain the same proportion of overall classes\n",
        "\n",
        "print(cross_val_score(KNN, X, y, cv=5, scoring = 'f1_macro'))\n",
        "```"
      ]
    },
    {
      "cell_type": "code",
      "metadata": {
        "id": "T4okkvuLmDFy",
        "colab_type": "code",
        "colab": {
          "base_uri": "https://localhost:8080/",
          "height": 34
        },
        "outputId": "8cd6c963-dc22-41a5-c67e-9fd91696876b"
      },
      "source": [
        "print(cross_val_score(KNN, X, y, cv=5, scoring = 'f1_macro'))"
      ],
      "execution_count": null,
      "outputs": [
        {
          "output_type": "stream",
          "text": [
            "[0.93333333 1.         0.89974937 0.93333333 0.96658312]\n"
          ],
          "name": "stdout"
        }
      ]
    },
    {
      "cell_type": "markdown",
      "metadata": {
        "id": "89fuwhTwmFYH",
        "colab_type": "text"
      },
      "source": [
        "```\n",
        "import numpy as np\n",
        "\n",
        "scores = cross_val_score(KNN, X, y, cv=cv, scoring = 'f1_macro')\n",
        "print(np.mean(scores))\n",
        "```"
      ]
    },
    {
      "cell_type": "code",
      "metadata": {
        "id": "fgW8p_0KmJ3Q",
        "colab_type": "code",
        "colab": {
          "base_uri": "https://localhost:8080/",
          "height": 963
        },
        "outputId": "168989ce-5f91-48f5-d4fb-2ca4ed4d03eb"
      },
      "source": [
        "import numpy as np\n",
        "#default here is Stratified\n",
        "scores = cross_val_score(KNN, X, y, cv=5, scoring = 'f1_macro')\n",
        "print(np.mean(scores))\n",
        "df_titanic"
      ],
      "execution_count": null,
      "outputs": [
        {
          "output_type": "stream",
          "text": [
            "0.9532497911445279\n"
          ],
          "name": "stdout"
        },
        {
          "output_type": "execute_result",
          "data": {
            "text/html": [
              "<div>\n",
              "<style scoped>\n",
              "    .dataframe tbody tr th:only-of-type {\n",
              "        vertical-align: middle;\n",
              "    }\n",
              "\n",
              "    .dataframe tbody tr th {\n",
              "        vertical-align: top;\n",
              "    }\n",
              "\n",
              "    .dataframe thead th {\n",
              "        text-align: right;\n",
              "    }\n",
              "</style>\n",
              "<table border=\"1\" class=\"dataframe\">\n",
              "  <thead>\n",
              "    <tr style=\"text-align: right;\">\n",
              "      <th></th>\n",
              "      <th>Survived</th>\n",
              "      <th>Pclass</th>\n",
              "      <th>Name</th>\n",
              "      <th>Sex</th>\n",
              "      <th>Age</th>\n",
              "      <th>Siblings/Spouses Aboard</th>\n",
              "      <th>Parents/Children Aboard</th>\n",
              "      <th>Fare</th>\n",
              "      <th>familysize</th>\n",
              "      <th>alone</th>\n",
              "      <th>Fare_scaled</th>\n",
              "      <th>Age_scaled</th>\n",
              "      <th>familysize_scaled</th>\n",
              "    </tr>\n",
              "  </thead>\n",
              "  <tbody>\n",
              "    <tr>\n",
              "      <th>0</th>\n",
              "      <td>0</td>\n",
              "      <td>3</td>\n",
              "      <td>Mr. Owen Harris Braund</td>\n",
              "      <td>male</td>\n",
              "      <td>22.0</td>\n",
              "      <td>1</td>\n",
              "      <td>0</td>\n",
              "      <td>7.2500</td>\n",
              "      <td>2</td>\n",
              "      <td>0</td>\n",
              "      <td>-0.503586</td>\n",
              "      <td>-0.529366</td>\n",
              "      <td>0.056543</td>\n",
              "    </tr>\n",
              "    <tr>\n",
              "      <th>1</th>\n",
              "      <td>1</td>\n",
              "      <td>1</td>\n",
              "      <td>Mrs. John Bradley (Florence Briggs Thayer) Cum...</td>\n",
              "      <td>female</td>\n",
              "      <td>38.0</td>\n",
              "      <td>1</td>\n",
              "      <td>0</td>\n",
              "      <td>71.2833</td>\n",
              "      <td>2</td>\n",
              "      <td>0</td>\n",
              "      <td>0.783412</td>\n",
              "      <td>0.604265</td>\n",
              "      <td>0.056543</td>\n",
              "    </tr>\n",
              "    <tr>\n",
              "      <th>2</th>\n",
              "      <td>1</td>\n",
              "      <td>3</td>\n",
              "      <td>Miss. Laina Heikkinen</td>\n",
              "      <td>female</td>\n",
              "      <td>26.0</td>\n",
              "      <td>0</td>\n",
              "      <td>0</td>\n",
              "      <td>7.9250</td>\n",
              "      <td>1</td>\n",
              "      <td>1</td>\n",
              "      <td>-0.490020</td>\n",
              "      <td>-0.245958</td>\n",
              "      <td>-0.562638</td>\n",
              "    </tr>\n",
              "    <tr>\n",
              "      <th>3</th>\n",
              "      <td>1</td>\n",
              "      <td>1</td>\n",
              "      <td>Mrs. Jacques Heath (Lily May Peel) Futrelle</td>\n",
              "      <td>female</td>\n",
              "      <td>35.0</td>\n",
              "      <td>1</td>\n",
              "      <td>0</td>\n",
              "      <td>53.1000</td>\n",
              "      <td>2</td>\n",
              "      <td>0</td>\n",
              "      <td>0.417948</td>\n",
              "      <td>0.391709</td>\n",
              "      <td>0.056543</td>\n",
              "    </tr>\n",
              "    <tr>\n",
              "      <th>4</th>\n",
              "      <td>0</td>\n",
              "      <td>3</td>\n",
              "      <td>Mr. William Henry Allen</td>\n",
              "      <td>male</td>\n",
              "      <td>35.0</td>\n",
              "      <td>0</td>\n",
              "      <td>0</td>\n",
              "      <td>8.0500</td>\n",
              "      <td>1</td>\n",
              "      <td>1</td>\n",
              "      <td>-0.487507</td>\n",
              "      <td>0.391709</td>\n",
              "      <td>-0.562638</td>\n",
              "    </tr>\n",
              "    <tr>\n",
              "      <th>...</th>\n",
              "      <td>...</td>\n",
              "      <td>...</td>\n",
              "      <td>...</td>\n",
              "      <td>...</td>\n",
              "      <td>...</td>\n",
              "      <td>...</td>\n",
              "      <td>...</td>\n",
              "      <td>...</td>\n",
              "      <td>...</td>\n",
              "      <td>...</td>\n",
              "      <td>...</td>\n",
              "      <td>...</td>\n",
              "      <td>...</td>\n",
              "    </tr>\n",
              "    <tr>\n",
              "      <th>882</th>\n",
              "      <td>0</td>\n",
              "      <td>2</td>\n",
              "      <td>Rev. Juozas Montvila</td>\n",
              "      <td>male</td>\n",
              "      <td>27.0</td>\n",
              "      <td>0</td>\n",
              "      <td>0</td>\n",
              "      <td>13.0000</td>\n",
              "      <td>1</td>\n",
              "      <td>1</td>\n",
              "      <td>-0.388018</td>\n",
              "      <td>-0.175106</td>\n",
              "      <td>-0.562638</td>\n",
              "    </tr>\n",
              "    <tr>\n",
              "      <th>883</th>\n",
              "      <td>1</td>\n",
              "      <td>1</td>\n",
              "      <td>Miss. Margaret Edith Graham</td>\n",
              "      <td>female</td>\n",
              "      <td>19.0</td>\n",
              "      <td>0</td>\n",
              "      <td>0</td>\n",
              "      <td>30.0000</td>\n",
              "      <td>1</td>\n",
              "      <td>1</td>\n",
              "      <td>-0.046336</td>\n",
              "      <td>-0.741922</td>\n",
              "      <td>-0.562638</td>\n",
              "    </tr>\n",
              "    <tr>\n",
              "      <th>884</th>\n",
              "      <td>0</td>\n",
              "      <td>3</td>\n",
              "      <td>Miss. Catherine Helen Johnston</td>\n",
              "      <td>female</td>\n",
              "      <td>7.0</td>\n",
              "      <td>1</td>\n",
              "      <td>2</td>\n",
              "      <td>23.4500</td>\n",
              "      <td>4</td>\n",
              "      <td>0</td>\n",
              "      <td>-0.177984</td>\n",
              "      <td>-1.592145</td>\n",
              "      <td>1.294904</td>\n",
              "    </tr>\n",
              "    <tr>\n",
              "      <th>885</th>\n",
              "      <td>1</td>\n",
              "      <td>1</td>\n",
              "      <td>Mr. Karl Howell Behr</td>\n",
              "      <td>male</td>\n",
              "      <td>26.0</td>\n",
              "      <td>0</td>\n",
              "      <td>0</td>\n",
              "      <td>30.0000</td>\n",
              "      <td>1</td>\n",
              "      <td>1</td>\n",
              "      <td>-0.046336</td>\n",
              "      <td>-0.245958</td>\n",
              "      <td>-0.562638</td>\n",
              "    </tr>\n",
              "    <tr>\n",
              "      <th>886</th>\n",
              "      <td>0</td>\n",
              "      <td>3</td>\n",
              "      <td>Mr. Patrick Dooley</td>\n",
              "      <td>male</td>\n",
              "      <td>32.0</td>\n",
              "      <td>0</td>\n",
              "      <td>0</td>\n",
              "      <td>7.7500</td>\n",
              "      <td>1</td>\n",
              "      <td>1</td>\n",
              "      <td>-0.493537</td>\n",
              "      <td>0.179153</td>\n",
              "      <td>-0.562638</td>\n",
              "    </tr>\n",
              "  </tbody>\n",
              "</table>\n",
              "<p>887 rows × 13 columns</p>\n",
              "</div>"
            ],
            "text/plain": [
              "     Survived  Pclass  ... Age_scaled familysize_scaled\n",
              "0           0       3  ...  -0.529366          0.056543\n",
              "1           1       1  ...   0.604265          0.056543\n",
              "2           1       3  ...  -0.245958         -0.562638\n",
              "3           1       1  ...   0.391709          0.056543\n",
              "4           0       3  ...   0.391709         -0.562638\n",
              "..        ...     ...  ...        ...               ...\n",
              "882         0       2  ...  -0.175106         -0.562638\n",
              "883         1       1  ...  -0.741922         -0.562638\n",
              "884         0       3  ...  -1.592145          1.294904\n",
              "885         1       1  ...  -0.245958         -0.562638\n",
              "886         0       3  ...   0.179153         -0.562638\n",
              "\n",
              "[887 rows x 13 columns]"
            ]
          },
          "metadata": {
            "tags": []
          },
          "execution_count": 60
        }
      ]
    },
    {
      "cell_type": "markdown",
      "metadata": {
        "id": "8C9anct4gUEK",
        "colab_type": "text"
      },
      "source": [
        "Run Logistic Regression to predict who survived using the Titanic dataset. Output the cross-validated performance using K-Fold Cross-Validation. "
      ]
    },
    {
      "cell_type": "code",
      "metadata": {
        "id": "JwdFuAtlOSh9",
        "colab_type": "code",
        "colab": {
          "base_uri": "https://localhost:8080/",
          "height": 52
        },
        "outputId": "ebb2c333-7b89-4f61-dc5b-ff6a98e0406e"
      },
      "source": [
        "from sklearn.linear_model import LogisticRegression\n",
        "\n",
        "#Simply makes LR a Linear Regression algorithm (no X and Y determined)\n",
        "LogR=LogisticRegression()\n",
        " \n",
        "X = df_titanic[['Age_scaled', 'Fare_scaled']]\n",
        "y = df_titanic['Survived']\n",
        "\n",
        "#This creates the best-line-of-fit in one step (gradient descent or normalization happens internally)\n",
        "#Thus, we do not see iterations where parameters are being updated (as in gradient descent)\n",
        "#It plots the best line straight through the data points in one step\n",
        "LR.fit(X, y)\n",
        "\n",
        "#cv = KFold(n_splits=5, shuffle=False)\n",
        "\n",
        "print(cross_val_score(LogR, X, y, cv=5, scoring = 'f1_macro'))\n",
        "scores = cross_val_score(LogR, X, y, cv=5, scoring = 'f1_macro')\n",
        "print(np.mean(scores))"
      ],
      "execution_count": null,
      "outputs": [
        {
          "output_type": "stream",
          "text": [
            "[0.4796167  0.6384375  0.54472287 0.55721857 0.56143199]\n",
            "0.5562855248412406\n"
          ],
          "name": "stdout"
        }
      ]
    },
    {
      "cell_type": "code",
      "metadata": {
        "id": "NM0ivgVL6Z3e",
        "colab_type": "code",
        "colab": {
          "base_uri": "https://localhost:8080/",
          "height": 52
        },
        "outputId": "9d48d4a2-af75-4efc-8468-109d97ff18f6"
      },
      "source": [
        "from sklearn.linear_model import LogisticRegression\n",
        "from sklearn.model_selection import StratifiedKFold\n",
        "\n",
        "#Simply makes LR a Linear Regression algorithm (no X and Y determined)\n",
        "LogR=LogisticRegression()\n",
        " \n",
        "X = df_titanic[['Age_scaled', 'Fare_scaled']]\n",
        "y = df_titanic['Survived']\n",
        "\n",
        "#This creates the best-line-of-fit in one step (gradient descent or normalization happens internally)\n",
        "#Thus, we do not see iterations where parameters are being updated (as in gradient descent)\n",
        "#It plots the best line straight through the data points in one step\n",
        "LR.fit(X, y)\n",
        "\n",
        "cv = StratifiedKFold(n_splits=5, shuffle=True)\n",
        "\n",
        "print(cross_val_score(LogR, X, y, cv=5, scoring = 'f1_macro'))\n",
        "scores = cross_val_score(LogR, X, y, cv=5, scoring = 'f1_macro')\n",
        "print(np.mean(scores))\n",
        "#cross_val_score()"
      ],
      "execution_count": null,
      "outputs": [
        {
          "output_type": "stream",
          "text": [
            "[0.4796167  0.6384375  0.54472287 0.55721857 0.56143199]\n",
            "0.5562855248412406\n"
          ],
          "name": "stdout"
        }
      ]
    },
    {
      "cell_type": "markdown",
      "metadata": {
        "id": "ySdNbTlmi_Xw",
        "colab_type": "text"
      },
      "source": [
        "### Other Cross-validation methods\n",
        "\n",
        "There are many other cross-validation methods that you can use. For example, when working with any Time Series data, you want to use a cross-validation method where are training set is never after our test set, because at any point in time, we will never know future values, only historical values.\n",
        "\n",
        "What is Stratified K Fold? When is it useful? See if you can do some research and apply Stratified K Fold to the previous question."
      ]
    },
    {
      "cell_type": "code",
      "metadata": {
        "id": "vSQUlAAqkJAg",
        "colab_type": "code",
        "colab": {}
      },
      "source": [
        ""
      ],
      "execution_count": null,
      "outputs": []
    },
    {
      "cell_type": "markdown",
      "metadata": {
        "id": "du2HwCDfmz9K",
        "colab_type": "text"
      },
      "source": [
        "## Hold-out Set\n",
        "\n",
        "Create a hold out set to test your prediction on observations your model has NEVER seen before. This is to mimick applying your model to the real-world."
      ]
    },
    {
      "cell_type": "markdown",
      "metadata": {
        "id": "PaRhKAArmmsU",
        "colab_type": "text"
      },
      "source": [
        "```\n",
        "len(df_iris)\n",
        "```"
      ]
    },
    {
      "cell_type": "code",
      "metadata": {
        "id": "oMwavp2Pmokh",
        "colab_type": "code",
        "colab": {
          "base_uri": "https://localhost:8080/",
          "height": 34
        },
        "outputId": "b02f9e0f-d159-4392-c57c-320f5d54b7d9"
      },
      "source": [
        "len(df_iris)"
      ],
      "execution_count": null,
      "outputs": [
        {
          "output_type": "execute_result",
          "data": {
            "text/plain": [
              "150"
            ]
          },
          "metadata": {
            "tags": []
          },
          "execution_count": 38
        }
      ]
    },
    {
      "cell_type": "markdown",
      "metadata": {
        "id": "j_1lYyqAmrdY",
        "colab_type": "text"
      },
      "source": [
        "```\n",
        "df_iris_train = df_iris.sample(100)\n",
        "df_iris_holdout = df_iris.drop(df_iris_train.index)\n",
        "```"
      ]
    },
    {
      "cell_type": "code",
      "metadata": {
        "id": "IOXJ1JGZmsgU",
        "colab_type": "code",
        "colab": {}
      },
      "source": [
        "df_iris_train = df_iris.sample(100)\n",
        "df_iris_holdout = df_iris.drop(df_iris_train.index)"
      ],
      "execution_count": null,
      "outputs": []
    },
    {
      "cell_type": "markdown",
      "metadata": {
        "id": "vmzUUqVjmuIh",
        "colab_type": "text"
      },
      "source": [
        "```\n",
        "KNN = KNeighborsClassifier(n_neighbors=5)\n",
        "\n",
        "X_train = df_iris_train[['PetalLengthCm_scaled']]\n",
        "y_train = df_iris_train['Species']\n",
        "\n",
        "cv = KFold(n_splits=5, shuffle=False,random_state=1)\n",
        " \n",
        "scores = cross_val_score(KNN, X, y, cv=cv, scoring = 'f1_macro')\n",
        "\n",
        "print(np.mean(scores))\n",
        "```"
      ]
    },
    {
      "cell_type": "code",
      "metadata": {
        "id": "UzKehrc_myBO",
        "colab_type": "code",
        "colab": {
          "base_uri": "https://localhost:8080/",
          "height": 89
        },
        "outputId": "6eb9fb42-790e-4e1c-b94b-dc0c1e850b61"
      },
      "source": [
        "KNN = KNeighborsClassifier(n_neighbors=5)\n",
        " \n",
        "X_train = df_iris_train[['PetalLengthCm_scaled']]\n",
        "y_train = df_iris_train['Species']\n",
        " \n",
        "cv = KFold(n_splits=5, shuffle=False,random_state=1)\n",
        " \n",
        "scores = cross_val_score(KNN, X_train, y_train, cv=cv, scoring = 'f1_macro')\n",
        " \n",
        "print(np.mean(scores))"
      ],
      "execution_count": null,
      "outputs": [
        {
          "output_type": "stream",
          "text": [
            "0.9534505650295124\n"
          ],
          "name": "stdout"
        },
        {
          "output_type": "stream",
          "text": [
            "/usr/local/lib/python3.6/dist-packages/sklearn/model_selection/_split.py:296: FutureWarning: Setting a random_state has no effect since shuffle is False. This will raise an error in 0.24. You should leave random_state to its default (None), or set shuffle=True.\n",
            "  FutureWarning\n"
          ],
          "name": "stderr"
        }
      ]
    },
    {
      "cell_type": "markdown",
      "metadata": {
        "id": "hX01FHOLm0RF",
        "colab_type": "text"
      },
      "source": [
        "```\n",
        "from sklearn.metrics import f1_score\n",
        "\n",
        "X_holdout = df_iris_holdout[['PetalLengthCm_scaled']]\n",
        "KNN.fit(X_train,y_train)\n",
        "df_iris_holdout['prediction'] = KNN.predict(X_holdout)\n",
        "\n",
        "print(f1_score(df_iris_holdout['Species'],df_iris_holdout['prediction'],average='macro'))\n",
        "```"
      ]
    },
    {
      "cell_type": "code",
      "metadata": {
        "id": "pwV_h8l8m2yd",
        "colab_type": "code",
        "colab": {
          "base_uri": "https://localhost:8080/",
          "height": 34
        },
        "outputId": "83257352-ae51-4de4-a317-dd5f9ca59f34"
      },
      "source": [
        "from sklearn.metrics import f1_score\n",
        " \n",
        "X_holdout = df_iris_holdout[['PetalLengthCm_scaled']]\n",
        "KNN.fit(X_train,y_train)\n",
        "df_iris_holdout['prediction'] = KNN.predict(X_holdout)\n",
        " \n",
        "print(f1_score(df_iris_holdout['Species'],df_iris_holdout['prediction'],average='macro'))"
      ],
      "execution_count": null,
      "outputs": [
        {
          "output_type": "stream",
          "text": [
            "0.9416863672182821\n"
          ],
          "name": "stdout"
        }
      ]
    },
    {
      "cell_type": "markdown",
      "metadata": {
        "id": "D3sC6I_4m3gi",
        "colab_type": "text"
      },
      "source": [
        "# Feature Importance\n",
        "\n",
        "How can you test models with several different feature sets all at once? How do you know which features are stronger predictors than other features? At which point does performance go down?"
      ]
    },
    {
      "cell_type": "markdown",
      "metadata": {
        "id": "RiYJQkbDnBmf",
        "colab_type": "text"
      },
      "source": [
        "```\n",
        "from mlxtend.feature_selection import SequentialFeatureSelector as SFS\n",
        "from mlxtend.plotting import plot_sequential_feature_selection as plot_sfs\n",
        "import matplotlib.pyplot as plt\n",
        "```"
      ]
    },
    {
      "cell_type": "code",
      "metadata": {
        "id": "F5vuly6onDM3",
        "colab_type": "code",
        "colab": {}
      },
      "source": [
        "from mlxtend.feature_selection import SequentialFeatureSelector as SFS\n",
        "from mlxtend.plotting import plot_sequential_feature_selection as plot_sfs\n",
        "import matplotlib.pyplot as plt"
      ],
      "execution_count": null,
      "outputs": []
    },
    {
      "cell_type": "markdown",
      "metadata": {
        "id": "_-AFPbvonIYl",
        "colab_type": "text"
      },
      "source": [
        "\n",
        "```\n",
        "KNN = KNeighborsClassifier(n_neighbors=5)\n",
        "\n",
        "X = df_iris[['SepalLengthCm',\n",
        " 'SepalWidthCm',\n",
        " 'PetalLengthCm',\n",
        " 'PetalWidthCm']]\n",
        "\n",
        "y = df_iris['Species']\n",
        "```"
      ]
    },
    {
      "cell_type": "code",
      "metadata": {
        "id": "3KjjAhoanKE9",
        "colab_type": "code",
        "colab": {}
      },
      "source": [
        "KNN = KNeighborsClassifier(n_neighbors=5)\n",
        " \n",
        "X = df_iris[['SepalLengthCm',\n",
        " 'SepalWidthCm',\n",
        " 'PetalLengthCm',\n",
        " 'PetalWidthCm']]\n",
        " \n",
        "y = df_iris['Species']"
      ],
      "execution_count": null,
      "outputs": []
    },
    {
      "cell_type": "markdown",
      "metadata": {
        "id": "Rz_WQr3SnQND",
        "colab_type": "text"
      },
      "source": [
        "```\n",
        "sfs = SFS(KNN, \n",
        "          k_features=4, \n",
        "          scoring='f1_macro',\n",
        "          cv=5)\n",
        "sfs = sfs.fit(X, y)\n",
        "sfs.get_metric_dict()\n",
        "```"
      ]
    },
    {
      "cell_type": "code",
      "metadata": {
        "id": "-xICEwUpnSjx",
        "colab_type": "code",
        "colab": {
          "base_uri": "https://localhost:8080/",
          "height": 553
        },
        "outputId": "e795d048-1043-407c-9560-a47a88541d31"
      },
      "source": [
        "sfs = SFS(KNN, \n",
        "          k_features=4, \n",
        "          scoring='f1_macro',\n",
        "          cv=5)\n",
        "sfs = sfs.fit(X, y)\n",
        "sfs.get_metric_dict()"
      ],
      "execution_count": null,
      "outputs": [
        {
          "output_type": "execute_result",
          "data": {
            "text/plain": [
              "{1: {'avg_score': 0.9598319029897976,\n",
              "  'ci_bound': 0.03223556855687204,\n",
              "  'cv_scores': array([0.96658312, 0.96658312, 0.93333333, 0.93265993, 1.        ]),\n",
              "  'feature_idx': (3,),\n",
              "  'feature_names': ('PetalWidthCm',),\n",
              "  'std_dev': 0.025080367485459113,\n",
              "  'std_err': 0.012540183742729557},\n",
              " 2: {'avg_score': 0.9664818612187034,\n",
              "  'ci_bound': 0.027370476019954387,\n",
              "  'cv_scores': array([0.96658312, 0.96658312, 0.93265993, 0.96658312, 1.        ]),\n",
              "  'feature_idx': (2, 3),\n",
              "  'feature_names': ('PetalLengthCm', 'PetalWidthCm'),\n",
              "  'std_dev': 0.021295160208553578,\n",
              "  'std_err': 0.010647580104276789},\n",
              " 3: {'avg_score': 0.9665831244778612,\n",
              "  'ci_bound': 0.04704981312704936,\n",
              "  'cv_scores': array([0.96658312, 1.        , 0.89974937, 0.96658312, 1.        ]),\n",
              "  'feature_idx': (0, 2, 3),\n",
              "  'feature_names': ('SepalLengthCm', 'PetalLengthCm', 'PetalWidthCm'),\n",
              "  'std_dev': 0.036606353049635165,\n",
              "  'std_err': 0.01830317652481758},\n",
              " 4: {'avg_score': 0.973165236323131,\n",
              "  'ci_bound': 0.03235022398119134,\n",
              "  'cv_scores': array([0.96658312, 1.        , 0.93265993, 0.96658312, 1.        ]),\n",
              "  'feature_idx': (0, 1, 2, 3),\n",
              "  'feature_names': ('SepalLengthCm',\n",
              "   'SepalWidthCm',\n",
              "   'PetalLengthCm',\n",
              "   'PetalWidthCm'),\n",
              "  'std_dev': 0.02516957330080113,\n",
              "  'std_err': 0.012584786650400566}}"
            ]
          },
          "metadata": {
            "tags": []
          },
          "execution_count": 72
        }
      ]
    },
    {
      "cell_type": "markdown",
      "metadata": {
        "id": "-38uebTRnTWX",
        "colab_type": "text"
      },
      "source": [
        "```\n",
        "fig = plot_sfs(sfs.get_metric_dict(), kind='std_err')\n",
        "plt.title('Sequential Forward Selection (w. StdErr)')\n",
        "plt.grid()\n",
        "plt.show()\n",
        "```"
      ]
    },
    {
      "cell_type": "code",
      "metadata": {
        "id": "-9_AXZhOlCJH",
        "colab_type": "code",
        "colab": {
          "base_uri": "https://localhost:8080/",
          "height": 476
        },
        "outputId": "bbfcb8f6-f31f-4095-f38f-04a2189c9d8a"
      },
      "source": [
        "fig = plot_sfs(sfs.get_metric_dict(), kind='std_err')\n",
        "plt.title('Sequential Forward Selection (w. StdErr)')\n",
        "plt.grid()\n",
        "plt.show()\n",
        "df_iris.head()"
      ],
      "execution_count": null,
      "outputs": [
        {
          "output_type": "display_data",
          "data": {
            "image/png": "[encoded data removed]",
            "text/plain": [
              "<Figure size 432x288 with 1 Axes>"
            ]
          },
          "metadata": {
            "tags": [],
            "needs_background": "light"
          }
        },
        {
          "output_type": "execute_result",
          "data": {
            "text/html": [
              "<div>\n",
              "<style scoped>\n",
              "    .dataframe tbody tr th:only-of-type {\n",
              "        vertical-align: middle;\n",
              "    }\n",
              "\n",
              "    .dataframe tbody tr th {\n",
              "        vertical-align: top;\n",
              "    }\n",
              "\n",
              "    .dataframe thead th {\n",
              "        text-align: right;\n",
              "    }\n",
              "</style>\n",
              "<table border=\"1\" class=\"dataframe\">\n",
              "  <thead>\n",
              "    <tr style=\"text-align: right;\">\n",
              "      <th></th>\n",
              "      <th>Id</th>\n",
              "      <th>SepalLengthCm</th>\n",
              "      <th>SepalWidthCm</th>\n",
              "      <th>PetalLengthCm</th>\n",
              "      <th>PetalWidthCm</th>\n",
              "      <th>Species</th>\n",
              "    </tr>\n",
              "  </thead>\n",
              "  <tbody>\n",
              "    <tr>\n",
              "      <th>0</th>\n",
              "      <td>1</td>\n",
              "      <td>5.1</td>\n",
              "      <td>3.5</td>\n",
              "      <td>1.4</td>\n",
              "      <td>0.2</td>\n",
              "      <td>Iris-setosa</td>\n",
              "    </tr>\n",
              "    <tr>\n",
              "      <th>1</th>\n",
              "      <td>2</td>\n",
              "      <td>4.9</td>\n",
              "      <td>3.0</td>\n",
              "      <td>1.4</td>\n",
              "      <td>0.2</td>\n",
              "      <td>Iris-setosa</td>\n",
              "    </tr>\n",
              "    <tr>\n",
              "      <th>2</th>\n",
              "      <td>3</td>\n",
              "      <td>4.7</td>\n",
              "      <td>3.2</td>\n",
              "      <td>1.3</td>\n",
              "      <td>0.2</td>\n",
              "      <td>Iris-setosa</td>\n",
              "    </tr>\n",
              "    <tr>\n",
              "      <th>3</th>\n",
              "      <td>4</td>\n",
              "      <td>4.6</td>\n",
              "      <td>3.1</td>\n",
              "      <td>1.5</td>\n",
              "      <td>0.2</td>\n",
              "      <td>Iris-setosa</td>\n",
              "    </tr>\n",
              "    <tr>\n",
              "      <th>4</th>\n",
              "      <td>5</td>\n",
              "      <td>5.0</td>\n",
              "      <td>3.6</td>\n",
              "      <td>1.4</td>\n",
              "      <td>0.2</td>\n",
              "      <td>Iris-setosa</td>\n",
              "    </tr>\n",
              "  </tbody>\n",
              "</table>\n",
              "</div>"
            ],
            "text/plain": [
              "   Id  SepalLengthCm  SepalWidthCm  PetalLengthCm  PetalWidthCm      Species\n",
              "0   1            5.1           3.5            1.4           0.2  Iris-setosa\n",
              "1   2            4.9           3.0            1.4           0.2  Iris-setosa\n",
              "2   3            4.7           3.2            1.3           0.2  Iris-setosa\n",
              "3   4            4.6           3.1            1.5           0.2  Iris-setosa\n",
              "4   5            5.0           3.6            1.4           0.2  Iris-setosa"
            ]
          },
          "metadata": {
            "tags": []
          },
          "execution_count": 75
        }
      ]
    },
    {
      "cell_type": "code",
      "metadata": {
        "id": "UEd-52TrExa6",
        "colab_type": "code",
        "colab": {
          "base_uri": "https://localhost:8080/",
          "height": 946
        },
        "outputId": "385c0517-4284-4b3f-ea0a-5e3839f22221"
      },
      "source": [
        "df_titanic"
      ],
      "execution_count": null,
      "outputs": [
        {
          "output_type": "execute_result",
          "data": {
            "text/html": [
              "<div>\n",
              "<style scoped>\n",
              "    .dataframe tbody tr th:only-of-type {\n",
              "        vertical-align: middle;\n",
              "    }\n",
              "\n",
              "    .dataframe tbody tr th {\n",
              "        vertical-align: top;\n",
              "    }\n",
              "\n",
              "    .dataframe thead th {\n",
              "        text-align: right;\n",
              "    }\n",
              "</style>\n",
              "<table border=\"1\" class=\"dataframe\">\n",
              "  <thead>\n",
              "    <tr style=\"text-align: right;\">\n",
              "      <th></th>\n",
              "      <th>Survived</th>\n",
              "      <th>Pclass</th>\n",
              "      <th>Name</th>\n",
              "      <th>Sex</th>\n",
              "      <th>Age</th>\n",
              "      <th>Siblings/Spouses Aboard</th>\n",
              "      <th>Parents/Children Aboard</th>\n",
              "      <th>Fare</th>\n",
              "      <th>familysize</th>\n",
              "      <th>alone</th>\n",
              "      <th>Fare_scaled</th>\n",
              "      <th>Age_scaled</th>\n",
              "      <th>familysize_scaled</th>\n",
              "    </tr>\n",
              "  </thead>\n",
              "  <tbody>\n",
              "    <tr>\n",
              "      <th>0</th>\n",
              "      <td>0</td>\n",
              "      <td>3</td>\n",
              "      <td>Mr. Owen Harris Braund</td>\n",
              "      <td>male</td>\n",
              "      <td>22.0</td>\n",
              "      <td>1</td>\n",
              "      <td>0</td>\n",
              "      <td>7.2500</td>\n",
              "      <td>2</td>\n",
              "      <td>0</td>\n",
              "      <td>-0.503586</td>\n",
              "      <td>-0.529366</td>\n",
              "      <td>0.056543</td>\n",
              "    </tr>\n",
              "    <tr>\n",
              "      <th>1</th>\n",
              "      <td>1</td>\n",
              "      <td>1</td>\n",
              "      <td>Mrs. John Bradley (Florence Briggs Thayer) Cum...</td>\n",
              "      <td>female</td>\n",
              "      <td>38.0</td>\n",
              "      <td>1</td>\n",
              "      <td>0</td>\n",
              "      <td>71.2833</td>\n",
              "      <td>2</td>\n",
              "      <td>0</td>\n",
              "      <td>0.783412</td>\n",
              "      <td>0.604265</td>\n",
              "      <td>0.056543</td>\n",
              "    </tr>\n",
              "    <tr>\n",
              "      <th>2</th>\n",
              "      <td>1</td>\n",
              "      <td>3</td>\n",
              "      <td>Miss. Laina Heikkinen</td>\n",
              "      <td>female</td>\n",
              "      <td>26.0</td>\n",
              "      <td>0</td>\n",
              "      <td>0</td>\n",
              "      <td>7.9250</td>\n",
              "      <td>1</td>\n",
              "      <td>1</td>\n",
              "      <td>-0.490020</td>\n",
              "      <td>-0.245958</td>\n",
              "      <td>-0.562638</td>\n",
              "    </tr>\n",
              "    <tr>\n",
              "      <th>3</th>\n",
              "      <td>1</td>\n",
              "      <td>1</td>\n",
              "      <td>Mrs. Jacques Heath (Lily May Peel) Futrelle</td>\n",
              "      <td>female</td>\n",
              "      <td>35.0</td>\n",
              "      <td>1</td>\n",
              "      <td>0</td>\n",
              "      <td>53.1000</td>\n",
              "      <td>2</td>\n",
              "      <td>0</td>\n",
              "      <td>0.417948</td>\n",
              "      <td>0.391709</td>\n",
              "      <td>0.056543</td>\n",
              "    </tr>\n",
              "    <tr>\n",
              "      <th>4</th>\n",
              "      <td>0</td>\n",
              "      <td>3</td>\n",
              "      <td>Mr. William Henry Allen</td>\n",
              "      <td>male</td>\n",
              "      <td>35.0</td>\n",
              "      <td>0</td>\n",
              "      <td>0</td>\n",
              "      <td>8.0500</td>\n",
              "      <td>1</td>\n",
              "      <td>1</td>\n",
              "      <td>-0.487507</td>\n",
              "      <td>0.391709</td>\n",
              "      <td>-0.562638</td>\n",
              "    </tr>\n",
              "    <tr>\n",
              "      <th>...</th>\n",
              "      <td>...</td>\n",
              "      <td>...</td>\n",
              "      <td>...</td>\n",
              "      <td>...</td>\n",
              "      <td>...</td>\n",
              "      <td>...</td>\n",
              "      <td>...</td>\n",
              "      <td>...</td>\n",
              "      <td>...</td>\n",
              "      <td>...</td>\n",
              "      <td>...</td>\n",
              "      <td>...</td>\n",
              "      <td>...</td>\n",
              "    </tr>\n",
              "    <tr>\n",
              "      <th>882</th>\n",
              "      <td>0</td>\n",
              "      <td>2</td>\n",
              "      <td>Rev. Juozas Montvila</td>\n",
              "      <td>male</td>\n",
              "      <td>27.0</td>\n",
              "      <td>0</td>\n",
              "      <td>0</td>\n",
              "      <td>13.0000</td>\n",
              "      <td>1</td>\n",
              "      <td>1</td>\n",
              "      <td>-0.388018</td>\n",
              "      <td>-0.175106</td>\n",
              "      <td>-0.562638</td>\n",
              "    </tr>\n",
              "    <tr>\n",
              "      <th>883</th>\n",
              "      <td>1</td>\n",
              "      <td>1</td>\n",
              "      <td>Miss. Margaret Edith Graham</td>\n",
              "      <td>female</td>\n",
              "      <td>19.0</td>\n",
              "      <td>0</td>\n",
              "      <td>0</td>\n",
              "      <td>30.0000</td>\n",
              "      <td>1</td>\n",
              "      <td>1</td>\n",
              "      <td>-0.046336</td>\n",
              "      <td>-0.741922</td>\n",
              "      <td>-0.562638</td>\n",
              "    </tr>\n",
              "    <tr>\n",
              "      <th>884</th>\n",
              "      <td>0</td>\n",
              "      <td>3</td>\n",
              "      <td>Miss. Catherine Helen Johnston</td>\n",
              "      <td>female</td>\n",
              "      <td>7.0</td>\n",
              "      <td>1</td>\n",
              "      <td>2</td>\n",
              "      <td>23.4500</td>\n",
              "      <td>4</td>\n",
              "      <td>0</td>\n",
              "      <td>-0.177984</td>\n",
              "      <td>-1.592145</td>\n",
              "      <td>1.294904</td>\n",
              "    </tr>\n",
              "    <tr>\n",
              "      <th>885</th>\n",
              "      <td>1</td>\n",
              "      <td>1</td>\n",
              "      <td>Mr. Karl Howell Behr</td>\n",
              "      <td>male</td>\n",
              "      <td>26.0</td>\n",
              "      <td>0</td>\n",
              "      <td>0</td>\n",
              "      <td>30.0000</td>\n",
              "      <td>1</td>\n",
              "      <td>1</td>\n",
              "      <td>-0.046336</td>\n",
              "      <td>-0.245958</td>\n",
              "      <td>-0.562638</td>\n",
              "    </tr>\n",
              "    <tr>\n",
              "      <th>886</th>\n",
              "      <td>0</td>\n",
              "      <td>3</td>\n",
              "      <td>Mr. Patrick Dooley</td>\n",
              "      <td>male</td>\n",
              "      <td>32.0</td>\n",
              "      <td>0</td>\n",
              "      <td>0</td>\n",
              "      <td>7.7500</td>\n",
              "      <td>1</td>\n",
              "      <td>1</td>\n",
              "      <td>-0.493537</td>\n",
              "      <td>0.179153</td>\n",
              "      <td>-0.562638</td>\n",
              "    </tr>\n",
              "  </tbody>\n",
              "</table>\n",
              "<p>887 rows × 13 columns</p>\n",
              "</div>"
            ],
            "text/plain": [
              "     Survived  Pclass  ... Age_scaled familysize_scaled\n",
              "0           0       3  ...  -0.529366          0.056543\n",
              "1           1       1  ...   0.604265          0.056543\n",
              "2           1       3  ...  -0.245958         -0.562638\n",
              "3           1       1  ...   0.391709          0.056543\n",
              "4           0       3  ...   0.391709         -0.562638\n",
              "..        ...     ...  ...        ...               ...\n",
              "882         0       2  ...  -0.175106         -0.562638\n",
              "883         1       1  ...  -0.741922         -0.562638\n",
              "884         0       3  ...  -1.592145          1.294904\n",
              "885         1       1  ...  -0.245958         -0.562638\n",
              "886         0       3  ...   0.179153         -0.562638\n",
              "\n",
              "[887 rows x 13 columns]"
            ]
          },
          "metadata": {
            "tags": []
          },
          "execution_count": 96
        }
      ]
    },
    {
      "cell_type": "code",
      "metadata": {
        "id": "hTXAqZoeBkX7",
        "colab_type": "code",
        "colab": {
          "base_uri": "https://localhost:8080/",
          "height": 235
        },
        "outputId": "dd4a81a6-9647-421f-8018-db4ad55e76f3"
      },
      "source": [
        "LogR = LogisticRegression()\n",
        " \n",
        "X = df_titanic[['Fare_scaled',\n",
        " 'S',\n",
        " 'PetalLengthCm',\n",
        " 'PetalWidthCm']]\n",
        " \n",
        "y = df_iris['Species']\n",
        "\n",
        "sfs = SFS(LogR, \n",
        "          k_features=4, \n",
        "          scoring='f1_macro',\n",
        "          cv=5)\n",
        "sfs = sfs.fit(X, y)\n",
        "sfs.get_metric_dict()"
      ],
      "execution_count": null,
      "outputs": [
        {
          "output_type": "error",
          "ename": "NameError",
          "evalue": "ignored",
          "traceback": [
            "\u001b[0;31m---------------------------------------------------------------------------\u001b[0m",
            "\u001b[0;31mNameError\u001b[0m                                 Traceback (most recent call last)",
            "\u001b[0;32m<ipython-input-1-b56db9e6ea30>\u001b[0m in \u001b[0;36m<module>\u001b[0;34m()\u001b[0m\n\u001b[0;32m----> 1\u001b[0;31m \u001b[0mLogR\u001b[0m \u001b[0;34m=\u001b[0m \u001b[0mLogisticRegression\u001b[0m\u001b[0;34m(\u001b[0m\u001b[0;34m)\u001b[0m\u001b[0;34m\u001b[0m\u001b[0;34m\u001b[0m\u001b[0m\n\u001b[0m\u001b[1;32m      2\u001b[0m \u001b[0;34m\u001b[0m\u001b[0m\n\u001b[1;32m      3\u001b[0m X = df_titanic[['Fare_scaled',\n\u001b[1;32m      4\u001b[0m  \u001b[0;34m'S'\u001b[0m\u001b[0;34m,\u001b[0m\u001b[0;34m\u001b[0m\u001b[0;34m\u001b[0m\u001b[0m\n\u001b[1;32m      5\u001b[0m  \u001b[0;34m'PetalLengthCm'\u001b[0m\u001b[0;34m,\u001b[0m\u001b[0;34m\u001b[0m\u001b[0;34m\u001b[0m\u001b[0m\n",
            "\u001b[0;31mNameError\u001b[0m: name 'LogisticRegression' is not defined"
          ]
        }
      ]
    },
    {
      "cell_type": "markdown",
      "metadata": {
        "id": "qKkmFe9qjqc9",
        "colab_type": "text"
      },
      "source": [
        "### Challenge\n",
        "\n",
        "- Using the Boston Housing Data, pick one of the models you have used so far and output a cross-validated performance score.\n",
        "- Add several (or all available) features to your model and determine the best set of features using SFS. "
      ]
    }
  ]
}